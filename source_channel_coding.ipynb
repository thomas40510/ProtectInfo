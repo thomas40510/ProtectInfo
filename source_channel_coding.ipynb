{
 "cells": [
  {
   "attachments": {},
   "cell_type": "markdown",
   "metadata": {},
   "source": [
    "# Source and channel coding\n"
   ]
  },
  {
   "attachments": {},
   "cell_type": "markdown",
   "metadata": {},
   "source": [
    "Problème résolu ! Le problème venait du type de `\"` utilisé. Pour définir `X2`, il faut bien utiliser `'` et non `\"`."
   ]
  },
  {
   "attachments": {},
   "cell_type": "markdown",
   "metadata": {},
   "source": [
    "## Programme II\n",
    "On convertit ici une entrée au format `string` en une entrée au format binaire (soit un tableau de `0` et de `1`).\n",
    "\n",
    "Entrée: `X2` (string) \\\n",
    "Sortie: `X4` (tableau de `0` et de `1`)"
   ]
  },
  {
   "cell_type": "code",
   "execution_count": 38,
   "metadata": {},
   "outputs": [
    {
     "name": "stdout",
     "output_type": "stream",
     "text": [
      "\n",
      "X4 =\n",
      "\n",
      "     0     1     1     0     1     1     1     1     0     1     0     0     0     1\n",
      "\n",
      "\n",
      "ans =\n",
      "\n",
      "     0     1     1     0     1     1     1     1     0     1\n",
      "\n",
      "\n",
      "ans =\n",
      "\n",
      "    '0110111101'\n",
      "\n",
      "\n"
     ]
    }
   ],
   "source": [
    "% Programme II\n",
    "%               ***************\n",
    "%               *             *\n",
    "% Message X --> * Source Code * --> X2\n",
    "%               *             *\n",
    "%               ***************\n",
    "% X2 is supposed known\n",
    "\n",
    "% Warning : The output of LempelZivEnco is a 'string'\n",
    "\n",
    "% Input : X2\n",
    "X2 = '01101111010001';\n",
    "\n",
    "clear X3 X4 Y1 Y2;\n",
    "X4 = zeros(1, length(X2));\n",
    "\n",
    "for i = 1:length(X2)\n",
    "    X4(i) = str2num(X2(i));\n",
    "end\n",
    "\n",
    "% X4 is a binary sequence \"=\" X2\n",
    "X4\n",
    "X4(1:10)\n",
    "X2(1:10)\n"
   ]
  },
  {
   "attachments": {},
   "cell_type": "markdown",
   "metadata": {},
   "source": [
    "## Channel Code\n",
    "On calcule ici la distance minimale de Hamming avec la matrice génératrice `G`. Et on vérifie la taille de `X4` pour savoir si on doit ajouter des `0` à la fin de `X4`."
   ]
  },
  {
   "cell_type": "code",
   "execution_count": 39,
   "metadata": {},
   "outputs": [
    {
     "name": "stdout",
     "output_type": "stream",
     "text": [
      "\n",
      "distmin =\n",
      "\n",
      "     3\n",
      "\n",
      "\n",
      "ans =\n",
      "\n",
      "     1    14\n",
      "\n",
      "\n"
     ]
    }
   ],
   "source": [
    "%               ****************\n",
    "%               *              *\n",
    "% Message X --> * Channel Code * --> X5\n",
    "%               *              *\n",
    "%               ****************\n",
    "\n",
    "% Let G be a generator matrix of a block code\n",
    "G = [1 0 1 0 1 0; 0 1 0 1 0 1]; % repetition\n",
    "u = [0 1; 1 1; 1 0];\n",
    "distmin = min(sum(rem(u * G, 2), 2))\n",
    "\n",
    "% Code X4\n",
    "% Checking the length of the sequence\n",
    "L4 = length(X4);\n",
    "rest = rem(L4, size(G, 1));\n",
    "\n",
    "if rest\n",
    "    X4(L4 + 1:L4 + size(G, 1) - rest) = zeros(1, size(G, 1) - rest);\n",
    "end\n",
    "\n",
    "size(X4)\n"
   ]
  },
  {
   "attachments": {},
   "cell_type": "markdown",
   "metadata": {},
   "source": [
    "Ici, on sépare `X4` en blocs de taille `size(G,1)` (ici vaut 2). Puis on multiplie chaque bloc de code par G, pour les stocker dans `X5`. Enfin, on calcule le code rate entre `X4` et `X5`.\n",
    "On constate que le code rate est égal à la distance minimale de Hamming, calculé précédemment. Cela nous permet d'affirmer que le code est correct."
   ]
  },
  {
   "cell_type": "code",
   "execution_count": 40,
   "metadata": {},
   "outputs": [
    {
     "name": "stdout",
     "output_type": "stream",
     "text": [
      "\n",
      "ans =\n",
      "\n",
      "     7     2\n",
      "\n",
      "\n",
      "ans =\n",
      "\n",
      "     0     1     1     0     1     1     1     1     0     1\n",
      "\n",
      "\n",
      "ans =\n",
      "\n",
      "     0     1\n",
      "     1     0\n",
      "     1     1\n",
      "     1     1\n",
      "     0     1\n",
      "\n",
      "\n",
      "Rcb =\n",
      "\n",
      "     3\n",
      "\n",
      "\n"
     ]
    }
   ],
   "source": [
    "\n",
    "% Verification is possible by vec2mat(mat,padded) of Matlab\n",
    "mat = vec2mat(X4, size(G, 1));\n",
    "size(mat)\n",
    "X4(1:10)\n",
    "mat(1:5, :)\n",
    "\n",
    "code = rem(mat * G, 2);\n",
    "X5 = reshape(code', 1, size(code, 1) * size(code, 2));\n",
    "Rcb = length(X5) / length(X4) % Code rate\n"
   ]
  },
  {
   "attachments": {},
   "cell_type": "markdown",
   "metadata": {},
   "source": [
    "## Decode channel\n",
    "On calcule l'inverse de la matrice `G` et on vérifie que celle-ci est bien son inverse (en multipliant `G` et `Gri`, on obtient bien la matrice identité). Grâce à l'inverse, on peut décoder le message en multipliant `Y1` par `Gri`, une fois `Y1` séparé en blocs de taille `size(G,2)`.\n",
    "\n",
    "On calcule `Y2` à partir de `Y1`, le message reçu. On constate que `Y2` est égal à `X4`, ce qui prouve que le décodage s'est bien passé."
   ]
  },
  {
   "cell_type": "code",
   "execution_count": 41,
   "metadata": {},
   "outputs": [
    {
     "name": "stdout",
     "output_type": "stream",
     "text": [
      "\n",
      "Gri =\n",
      "\n",
      "    0.3333         0\n",
      "         0    0.3333\n",
      "    0.3333         0\n",
      "         0    0.3333\n",
      "    0.3333         0\n",
      "         0    0.3333\n",
      "\n",
      "\n",
      "ans =\n",
      "\n",
      "     1     0\n",
      "     0     1\n",
      "\n",
      "\n",
      "BER =\n",
      "\n",
      "     0\n",
      "\n",
      "\n"
     ]
    }
   ],
   "source": [
    "%                       ***********\n",
    "%                       *         *\n",
    "% Message envoyé X5 --> * Channel * --> Y1\n",
    "%                       *         *\n",
    "%                       ***********\n",
    "\n",
    "% Canal sans bruit ==> Y1 = X5\n",
    "Y1 = X5;\n",
    "\n",
    "%                     ******************\n",
    "%                     *                *\n",
    "% Message reçu Y1 --> * Decode Channel * --> Y2\n",
    "%                     *                *\n",
    "%                     ******************\n",
    "\n",
    "% Decode Y1\n",
    "Gri = G' * inv(G * G') % right inverse\n",
    "G * Gri\n",
    "Ym = vec2mat(Y1, size(G, 2));\n",
    "deco = Ym * Gri;\n",
    "\n",
    "Y2 = reshape(deco', 1, size(deco, 1) * size(deco, 2)); % real vector\n",
    "Y2 = (Y2 > 0.5); % binary vector after a threshold\n",
    "\n",
    "BER = sum((Y2 - X4) .^ 2) % Bit Error Rate\n"
   ]
  },
  {
   "attachments": {},
   "cell_type": "markdown",
   "metadata": {},
   "source": [
    "## Canal II\n",
    "On introduit des erreurs dans le message `X5` via le canal II. `Y1` contient donc `Nbrerr` erreurs."
   ]
  },
  {
   "cell_type": "code",
   "execution_count": 42,
   "metadata": {},
   "outputs": [
    {
     "name": "stdout",
     "output_type": "stream",
     "text": [
      "\n",
      "Nbrerr =\n",
      "\n",
      "     7\n",
      "\n",
      "\n"
     ]
    }
   ],
   "source": [
    "\n",
    "%                     ************\n",
    "%                     *          *\n",
    "% Sent Message X5 --> * Canal II * --> Y1\n",
    "%                     *          *\n",
    "%                     ************\n",
    "\n",
    "% Noisy channel ==> Y1 = X5 + noise\n",
    "e = zeros(size(X5));\n",
    "\n",
    "for i = 1:length(X5)\n",
    "    e(i) = (mod(i, size(G, 2)) == 1);\n",
    "end\n",
    "\n",
    "Nbrerr = sum(e)\n",
    "Y1 = rem(X5 + e, 2);\n"
   ]
  },
  {
   "attachments": {},
   "cell_type": "markdown",
   "metadata": {},
   "source": [
    "## Decode canal\n",
    "On calcule `P` car `G` est dans la forme systématique."
   ]
  },
  {
   "cell_type": "code",
   "execution_count": 48,
   "metadata": {},
   "outputs": [
    {
     "name": "stderr",
     "output_type": "stream",
     "text": [
      "\u001b[1;31mUnable to perform assignment because the size of the left side is 1-by-0 and the size of the right side is 1-by-4.\n",
      "\n",
      "\u001b[0m"
     ]
    }
   ],
   "source": [
    "%                         ****************\n",
    "%                         *              *\n",
    "% Received Message Y1 --> * Decode Canal * --> Y2\n",
    "%                         *              *\n",
    "%                         ****************\n",
    "\n",
    "% Correction Y1\n",
    "% Control matrix H\n",
    "% G is in systematic form\n",
    "k = size(G, 1);\n",
    "n = size(G, 2);\n",
    "P = zeros(k, n - k);\n",
    "\n",
    "for i = 1:k\n",
    "    P(i, :) = G(i, k + 1:end);\n",
    "end\n",
    "\n",
    "% H=[P^T I] is a n-k x k matrix\n",
    "Pt = P';\n",
    "I = eye(n - k);\n",
    "H = zeros(n - k, k);\n",
    "\n",
    "for i = 1:n - k\n",
    "    H(i, 1:size(Pt, 2)) = Pt(i, 1:end);\n",
    "    H(i, size(Pt, 2) + 1:end) = I(i, 1:end);\n",
    "end\n",
    "\n",
    "rem(G * H', 2) % G x H^T = 0\n"
   ]
  },
  {
   "cell_type": "code",
   "execution_count": 44,
   "metadata": {},
   "outputs": [
    {
     "name": "stderr",
     "output_type": "stream",
     "text": [
      "\u001b[1;31mIncorrect dimensions for matrix multiplication. Check that the number of columns in the first matrix matches the number of rows in the second matrix. To operate on each element of the matrix individually, use TIMES (.*) for elementwise multiplication.\n",
      "\n",
      "\u001b[0m"
     ]
    }
   ],
   "source": [
    "% error check\n",
    "mat = vec2mat(Y1, size(G, 2));\n",
    "s = rem(mat * H', 2); % Syndrome\n",
    "inder = (sum(s, 2) > 0); % error indicator\n",
    "\n",
    "% error correction\n",
    "matc = mat; %mat corrected\n",
    "\n",
    "for i = 1:size(mat, 1)\n",
    "\n",
    "    if inder(i) % correction\n",
    "        a = 0;\n",
    "        b = 0;\n",
    "\n",
    "        for j = 1:3 %repetition code 2x6\n",
    "            a = a + mat(i, 2 * j);\n",
    "            b = b + mat(i, 2 * j - 1);\n",
    "        end\n",
    "\n",
    "        for j = 1:3\n",
    "            matc(i, 2 * j) = ((a / 3) > 0.5);\n",
    "            matc(i, 2 * j - 1) = ((b / 3) > 0.5);\n",
    "        end\n",
    "\n",
    "    end\n",
    "\n",
    "end\n",
    "\n",
    "% Y1 corrected\n",
    "Y1 = reshape(matc', 1, size(matc, 1) * size(matc, 2));\n",
    "BER = sum((Y1 - X5) .^ 2) % Bit Error Rate\n",
    "\n",
    "% Decode Y1\n",
    "deco = matc * Gri;\n",
    "\n",
    "Y2 = reshape(deco', 1, size(deco, 1) * size(deco, 2)); % real vector\n",
    "Y2 = (Y2 > 0.5); % binary vector after a threshold\n",
    "\n",
    "BER = sum((Y2 - X4) .^ 2) % Bit Error Rate\n"
   ]
  },
  {
   "cell_type": "code",
   "execution_count": 45,
   "metadata": {},
   "outputs": [
    {
     "name": "stderr",
     "output_type": "stream",
     "text": [
      "\u001b[1;31mUnrecognized function or variable 'Dict2'.\n",
      "\n",
      "\u001b[0m"
     ]
    }
   ],
   "source": [
    "%                              *****************\n",
    "%                              *               *\n",
    "% Channel Decoding Y2 = X2 --> * Decode Source * --> Y3 = X\n",
    "%                              *               *\n",
    "%                              *****************\n",
    "\n",
    "% format string\n",
    "str = num2str(Y2);\n",
    "\n",
    "for i = 1:length(Y2)\n",
    "    Y2s(i) = str(3 * (i - 1) + 1);\n",
    "end\n",
    "\n",
    "Y3 = LempelZivDeco(Y2s, Dict2); % Y2s doit être un string\n",
    "\n",
    "% Attention : La sortie de LempelZivDeco est un 'string'\n",
    "for i = 1:length(Y3)\n",
    "    Y4(i) = str2num(Y3(i));\n",
    "end\n",
    "\n",
    "BERF = sum((X(1:length(Y3)) - Y4) .^ 2) % Bit Error Rate\n"
   ]
  }
 ],
 "metadata": {
  "kernelspec": {
   "display_name": "Matlab",
   "language": "matlab",
   "name": "matlab"
  },
  "language_info": {
   "codemirror_mode": "octave",
   "file_extension": ".m",
   "help_links": [
    {
     "text": "MetaKernel Magics",
     "url": "https://metakernel.readthedocs.io/en/latest/source/README.html"
    }
   ],
   "mimetype": "text/x-octave",
   "name": "matlab",
   "version": "0.17.1"
  },
  "orig_nbformat": 4
 },
 "nbformat": 4,
 "nbformat_minor": 2
}
