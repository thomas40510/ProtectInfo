{
 "cells": [
  {
   "cell_type": "markdown",
   "metadata": {},
   "source": [
    "# Channel coding laboratory"
   ]
  },
  {
   "cell_type": "markdown",
   "metadata": {},
   "source": [
    "## 1. Block codes"
   ]
  },
  {
   "cell_type": "markdown",
   "metadata": {},
   "source": [
    "### 1.1. From a generator matrix"
   ]
  },
  {
   "cell_type": "markdown",
   "metadata": {},
   "source": [
    "We have the following generator matrix:"
   ]
  },
  {
   "cell_type": "code",
   "execution_count": 273,
   "metadata": {},
   "outputs": [
    {
     "name": "stdout",
     "output_type": "stream",
     "text": [
      "Created file '/Users/thomasprevost/github/ProtectInfo/BE2/genMatrix.m'.\n"
     ]
    }
   ],
   "source": [
    "%%file genMatrix.m\n",
    "G = [[1 0 0 1 1 1 0 1 1 1]\n",
    "     [1 1 1 0 0 0 1 1 1 0]\n",
    "     [1 1 0 1 1 1 1 0 0 1]];\n"
   ]
  },
  {
   "cell_type": "code",
   "execution_count": 274,
   "metadata": {},
   "outputs": [],
   "source": [
    "genMatrix;"
   ]
  },
  {
   "cell_type": "markdown",
   "metadata": {},
   "source": [
    "1. First, we generate all possible codewords from the generator matrix:"
   ]
  },
  {
   "cell_type": "code",
   "execution_count": 275,
   "metadata": {},
   "outputs": [
    {
     "name": "stdout",
     "output_type": "stream",
     "text": [
      "Created file '/Users/thomasprevost/github/ProtectInfo/BE2/genCode.m'.\n"
     ]
    }
   ],
   "source": [
    "%%file genCode.m\n",
    "%%%%%%%%%%%%%%%%%%%%%%%%%%%%%%%%%%%%%%%%%%%%%%%%%%%%%%%%%%%%%%%%%%%%%%%%%%%\n",
    "% genCode.m\n",
    "% Generates all possible codewords of a given generator matrix\n",
    "% Input: G - generator matrix\n",
    "% Output: C - codeword matrix\n",
    "%%%%%%%%%%%%%%%%%%%%%%%%%%%%%%%%%%%%%%%%%%%%%%%%%%%%%%%%%%%%%%%%%%%%%%%%%%%\n",
    "function C = genCode(G)\n",
    "    [m,n] = size(G);\n",
    "    C = zeros(2^n,n);\n",
    "    fprintf('Generating code matrix of size %d x %d\\n',2^n,n);\n",
    "    for i = 0:2^n-1\n",
    "        b = de2bi(i,n);\n",
    "        C(i+1,:) = mod(b*G(1),2);\n",
    "    end\n",
    "end\n"
   ]
  },
  {
   "cell_type": "code",
   "execution_count": 276,
   "metadata": {},
   "outputs": [
    {
     "name": "stdout",
     "output_type": "stream",
     "text": [
      "Generating code matrix of size 1024 x 10\n"
     ]
    }
   ],
   "source": [
    "C = genCode(G);"
   ]
  },
  {
   "cell_type": "markdown",
   "metadata": {},
   "source": [
    "2. Then, we calculate the minimum distance of the code:"
   ]
  },
  {
   "cell_type": "code",
   "execution_count": 277,
   "metadata": {},
   "outputs": [
    {
     "name": "stdout",
     "output_type": "stream",
     "text": [
      "Created file '/Users/thomasprevost/github/ProtectInfo/BE2/minDist.m'.\n"
     ]
    }
   ],
   "source": [
    "%%file minDist.m\n",
    "%%%%%%%%%%%%%%%%%%%%%%%%%%%%%%%%%%%%%%%%%%%%%%%%%%%%%%%%%%%%%%%%%%%%%%%%%%%\n",
    "% minDist.m\n",
    "% Calculates the minimum distance of a given code\n",
    "% Input: C - codeword matrix\n",
    "% Output: d - minimum distance\n",
    "%%%%%%%%%%%%%%%%%%%%%%%%%%%%%%%%%%%%%%%%%%%%%%%%%%%%%%%%%%%%%%%%%%%%%%%%%%%\n",
    "function d = minDist(C)\n",
    "    [m,n] = size(C);\n",
    "    d = n;\n",
    "    for i = 1:m\n",
    "        for j = i+1:m\n",
    "            if sum(rem(C(i,:)+C(j,:),2)) < d\n",
    "                d = sum(rem(C(i,:)+C(j,:),2));\n",
    "            end\n",
    "        end\n",
    "    end\n",
    "end"
   ]
  },
  {
   "cell_type": "code",
   "execution_count": 278,
   "metadata": {},
   "outputs": [
    {
     "name": "stdout",
     "output_type": "stream",
     "text": [
      "\n",
      "d =\n",
      "\n",
      "     1\n",
      "\n"
     ]
    }
   ],
   "source": [
    "d = minDist(C)"
   ]
  },
  {
   "cell_type": "markdown",
   "metadata": {},
   "source": [
    "3. Finally, we compare the minimum distance of the code with the minimum distance of a parity code with the same parameters.\n",
    "To do so, we first generate the parity code, then we calculate its minimum distance and compare it with the minimum distance of the code."
   ]
  },
  {
   "cell_type": "code",
   "execution_count": 279,
   "metadata": {},
   "outputs": [
    {
     "name": "stdout",
     "output_type": "stream",
     "text": [
      "Created file '/Users/thomasprevost/github/ProtectInfo/BE2/parityCode.m'.\n"
     ]
    }
   ],
   "source": [
    "%%file parityCode.m\n",
    "%%%%%%%%%%%%%%%%%%%%%%%%%%%%%%%%%%%%%%%%%%%%%%%%%%%%%%%%%%%%%%%%%%%%%%%%%%%\n",
    "% parityCode.m\n",
    "% Generates a parity code given its parameters\n",
    "% Input: n - number of bits\n",
    "%        k - number of information bits\n",
    "% Output: C - parity code matrix\n",
    "%%%%%%%%%%%%%%%%%%%%%%%%%%%%%%%%%%%%%%%%%%%%%%%%%%%%%%%%%%%%%%%%%%%%%%%%%%%\n",
    "function [C, G] = parityCode(n,k)\n",
    "    G = [eye(k) zeros(k,n-k)];\n",
    "    C = [G rem(G*G',2)];\n",
    "end"
   ]
  },
  {
   "cell_type": "code",
   "execution_count": 280,
   "metadata": {},
   "outputs": [
    {
     "name": "stdout",
     "output_type": "stream",
     "text": [
      "Created file '/Users/thomasprevost/github/ProtectInfo/BE2/compareToParity.m'.\n"
     ]
    }
   ],
   "source": [
    "%%file compareToParity.m\n",
    "%%%%%%%%%%%%%%%%%%%%%%%%%%%%%%%%%%%%%%%%%%%%%%%%%%%%%%%%%%%%%%%%%%%%%%%%%%%\n",
    "% compareToParity.m\n",
    "% Compares the minimum distance of a given code with the minimum distance\n",
    "% of a parity code with the same parameters\n",
    "% Input: G - generator matrix\n",
    "% Output: d - minimum distance\n",
    "%%%%%%%%%%%%%%%%%%%%%%%%%%%%%%%%%%%%%%%%%%%%%%%%%%%%%%%%%%%%%%%%%%%%%%%%%%%\n",
    "function d = compareToParity(G)\n",
    "    [m,n] = size(G);\n",
    "    C = genCode(G);\n",
    "    d = minDist(C);\n",
    "    [Cp,Gp] = parityCode(n,m);\n",
    "    dp = minDist(Cp);\n",
    "    fprintf('Minimum distance of the code: %d\\n',d);\n",
    "    fprintf('Minimum distance of the parity code: %d\\n',dp);\n",
    "end"
   ]
  },
  {
   "cell_type": "code",
   "execution_count": 281,
   "metadata": {},
   "outputs": [
    {
     "name": "stdout",
     "output_type": "stream",
     "text": [
      "Generating code matrix of size 1024 x 10\n",
      "Minimum distance of the code: 1\n",
      "Minimum distance of the parity code: 4\n"
     ]
    }
   ],
   "source": [
    "compareToParity(G);"
   ]
  },
  {
   "cell_type": "markdown",
   "metadata": {},
   "source": [
    "### 1.2. Hamming code"
   ]
  },
  {
   "cell_type": "markdown",
   "metadata": {},
   "source": [
    "1. First, we generate codes of the Hamming coding $C(15,11)$:"
   ]
  },
  {
   "cell_type": "code",
   "execution_count": 282,
   "metadata": {},
   "outputs": [
    {
     "name": "stdout",
     "output_type": "stream",
     "text": [
      "Created file '/Users/thomasprevost/github/ProtectInfo/BE2/hammingCode.m'.\n"
     ]
    }
   ],
   "source": [
    "%%file hammingCode.m\n",
    "%%%%%%%%%%%%%%%%%%%%%%%%%%%%%%%%%%%%%%%%%%%%%%%%%%%%%%%%%%%%%%%%%%%%%%%%%%%\n",
    "% hammingCode.m\n",
    "% Generates codes of a hamming coding given its parameters\n",
    "% Input: n - number of bits\n",
    "%        k - number of information bits\n",
    "% Output: H - hamming code matrix\n",
    "%         G - generator matrix\n",
    "%%%%%%%%%%%%%%%%%%%%%%%%%%%%%%%%%%%%%%%%%%%%%%%%%%%%%%%%%%%%%%%%%%%%%%%%%%%\n",
    "function [H,G] = hammingCode(n,k)\n",
    "    A = zeros(n-k, k);\n",
    "    for i = 1:n-k\n",
    "        A(i,:) = de2bi(i,k);\n",
    "    end\n",
    "    G = [eye(k) A.'];\n",
    "    H = [G rem(G*G',2)];\n",
    "end"
   ]
  },
  {
   "cell_type": "code",
   "execution_count": 283,
   "outputs": [
    {
     "name": "stdout",
     "output_type": "stream",
     "text": [
      "Created file '/Users/thomasprevost/github/ProtectInfo/BE2/genHammingCodes.m'.\n"
     ]
    }
   ],
   "source": [
    "%%file genHammingCodes.m\n",
    "%%%%%%%%%%%%%%%%%%%%%%%%%%%%%%%%%%%%%%%%%%%%%%%%%%%%%%%%%%%%%%%%%%%%%%%%%%%\n",
    "% genHammingCodes.m\n",
    "% Generates all possible codes of a hamming coding given its parameters\n",
    "% Input: n - number of bits\n",
    "%        k - number of information bits\n",
    "% Output: C - codeword matrix\n",
    "%%%%%%%%%%%%%%%%%%%%%%%%%%%%%%%%%%%%%%%%%%%%%%%%%%%%%%%%%%%%%%%%%%%%%%%%%%%\n",
    "function C = genHammingCodes(n,k)\n",
    "    [~,G] = hammingCode(n,k);\n",
    "    C = genCode(G);\n",
    "end"
   ],
   "metadata": {
    "collapsed": false
   }
  },
  {
   "cell_type": "code",
   "execution_count": 284,
   "metadata": {},
   "outputs": [
    {
     "name": "stdout",
     "output_type": "stream",
     "text": [
      "Generating code matrix of size 32768 x 15\n"
     ]
    }
   ],
   "source": [
    "[~,Gh] = hammingCode(15,11);\n",
    "Ch = genHammingCodes(15,11);"
   ]
  },
  {
   "cell_type": "markdown",
   "metadata": {},
   "source": [
    "2. Then, we calculate the minimum distance of the Hamming code:"
   ]
  },
  {
   "cell_type": "code",
   "execution_count": 285,
   "metadata": {},
   "outputs": [
    {
     "name": "stdout",
     "output_type": "stream",
     "text": [
      "\n",
      "dh =\n",
      "\n",
      "     2\n",
      "\n"
     ]
    }
   ],
   "source": [
    "dh = minDist(Gh)"
   ]
  },
  {
   "cell_type": "markdown",
   "source": [
    "_NB_ : the minimum distance of the Hamming code is given to be $d=3$. We do not have this value, the error being probably due to a mistake in the calculation of the minimum distance."
   ],
   "metadata": {
    "collapsed": false
   }
  }
 ],
 "metadata": {
  "@webio": {
   "lastCommId": null,
   "lastKernelId": null
  },
  "kernelspec": {
   "display_name": "Matlab",
   "language": "matlab",
   "name": "matlab"
  },
  "language_info": {
   "codemirror_mode": "octave",
   "file_extension": ".m",
   "help_links": [
    {
     "text": "MetaKernel Magics",
     "url": "https://metakernel.readthedocs.io/en/latest/source/README.html"
    }
   ],
   "mimetype": "text/x-octave",
   "name": "matlab",
   "version": "0.17.1"
  }
 },
 "nbformat": 4,
 "nbformat_minor": 1
}
