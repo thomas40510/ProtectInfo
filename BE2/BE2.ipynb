{
 "cells": [
  {
   "cell_type": "markdown",
   "metadata": {},
   "source": [
    "# Channel coding laboratory"
   ]
  },
  {
   "cell_type": "markdown",
   "metadata": {},
   "source": [
    "## 1. Block codes"
   ]
  },
  {
   "cell_type": "code",
   "execution_count": 122,
   "outputs": [],
   "source": [
    "clear all; close all; clc;"
   ],
   "metadata": {
    "collapsed": false
   }
  },
  {
   "cell_type": "code",
   "execution_count": 123,
   "metadata": {},
   "outputs": [
    {
     "name": "stdout",
     "output_type": "stream",
     "text": [
      "Created file '/Users/thomasprevost/github/ProtectInfo/BE2/genMatrix.m'.\n"
     ]
    }
   ],
   "source": [
    "%%file genMatrix.m\n",
    "G = [[1 0 0 1 1 1 0 1 1 1]\n",
    "     [1 1 1 0 0 0 1 1 1 0]\n",
    "     [1 1 0 1 1 1 1 0 0 1]];\n"
   ]
  },
  {
   "cell_type": "code",
   "execution_count": 124,
   "outputs": [
    {
     "name": "stdout",
     "output_type": "stream",
     "text": [
      "Created file '/Users/thomasprevost/github/ProtectInfo/BE2/genCode.m'.\n"
     ]
    }
   ],
   "source": [
    "%%file genCode.m\n",
    "%%%%%%%%%%%%%%%%%%%%%%%%%%%%%%%%%%%%%%%%%%%%%%%%%%%%%%%%%%%%%%%%%%%%%%%%%%%\n",
    "% genCode.m\n",
    "% Generates all possible codewords of a given generator matrix\n",
    "% Input: G - generator matrix\n",
    "% Output: C - codeword matrix\n",
    "%%%%%%%%%%%%%%%%%%%%%%%%%%%%%%%%%%%%%%%%%%%%%%%%%%%%%%%%%%%%%%%%%%%%%%%%%%%\n",
    "function C = genCode(G)\n",
    "    [m,n] = size(G);\n",
    "    C = zeros(2^n,n);\n",
    "    fprintf('Generating code matrix of size %d x %d\\n',2^n,n);\n",
    "    for i = 0:2^n-1\n",
    "        % progress bar\n",
    "        if mod(i,100) == 0\n",
    "            fprintf('Progress: %d/%d\\n',i,2^n-1);\n",
    "        end\n",
    "        b = de2bi(i,n);\n",
    "        C(i+1,:) = mod(b*G(1),2);\n",
    "    end\n",
    "    fprintf('Progress: %d/%d\\n',2^n-1,2^n-1);\n",
    "end\n"
   ],
   "metadata": {
    "collapsed": false
   }
  },
  {
   "cell_type": "code",
   "execution_count": 125,
   "outputs": [
    {
     "name": "stdout",
     "output_type": "stream",
     "text": [
      "Created file '/Users/thomasprevost/github/ProtectInfo/BE2/minDist.m'.\n"
     ]
    }
   ],
   "source": [
    "%%file minDist.m\n",
    "%%%%%%%%%%%%%%%%%%%%%%%%%%%%%%%%%%%%%%%%%%%%%%%%%%%%%%%%%%%%%%%%%%%%%%%%%%%\n",
    "% minDist.m\n",
    "% Calculates the minimum distance of a given code\n",
    "% Input: C - codeword matrix\n",
    "% Output: d - minimum distance\n",
    "%%%%%%%%%%%%%%%%%%%%%%%%%%%%%%%%%%%%%%%%%%%%%%%%%%%%%%%%%%%%%%%%%%%%%%%%%%%\n",
    "function d = minDist(C)\n",
    "    [m,n] = size(C);\n",
    "    d = n;\n",
    "    for i = 1:m\n",
    "        for j = i+1:m\n",
    "            if sum(rem(C(i,:)+C(j,:),2)) < d\n",
    "                d = sum(rem(C(i,:)+C(j,:),2));\n",
    "            end\n",
    "        end\n",
    "    end\n",
    "end"
   ],
   "metadata": {
    "collapsed": false
   }
  },
  {
   "cell_type": "code",
   "execution_count": 126,
   "outputs": [
    {
     "name": "stdout",
     "output_type": "stream",
     "text": [
      "Created file '/Users/thomasprevost/github/ProtectInfo/BE2/parityCode.m'.\n"
     ]
    }
   ],
   "source": [
    "%%file parityCode.m\n",
    "%%%%%%%%%%%%%%%%%%%%%%%%%%%%%%%%%%%%%%%%%%%%%%%%%%%%%%%%%%%%%%%%%%%%%%%%%%%\n",
    "% parityCode.m\n",
    "% Generates a parity code given its parameters\n",
    "% Input: n - number of bits\n",
    "%        k - number of information bits\n",
    "% Output: C - parity code matrix\n",
    "%%%%%%%%%%%%%%%%%%%%%%%%%%%%%%%%%%%%%%%%%%%%%%%%%%%%%%%%%%%%%%%%%%%%%%%%%%%\n",
    "function [C, G] = parityCode(n,k)\n",
    "    G = [eye(k) zeros(k,n-k)];\n",
    "    C = [G rem(G*G',2)];\n",
    "end"
   ],
   "metadata": {
    "collapsed": false
   }
  },
  {
   "cell_type": "code",
   "execution_count": 127,
   "outputs": [
    {
     "name": "stdout",
     "output_type": "stream",
     "text": [
      "Created file '/Users/thomasprevost/github/ProtectInfo/BE2/compareToParity.m'.\n"
     ]
    }
   ],
   "source": [
    "%%file compareToParity.m\n",
    "%%%%%%%%%%%%%%%%%%%%%%%%%%%%%%%%%%%%%%%%%%%%%%%%%%%%%%%%%%%%%%%%%%%%%%%%%%%\n",
    "% compareToParity.m\n",
    "% Compares the minimum distance of a given code with the minimum distance\n",
    "% of a parity code with the same parameters\n",
    "% Input: G - generator matrix\n",
    "% Output: d - minimum distance\n",
    "%%%%%%%%%%%%%%%%%%%%%%%%%%%%%%%%%%%%%%%%%%%%%%%%%%%%%%%%%%%%%%%%%%%%%%%%%%%\n",
    "function d = compareToParity(G)\n",
    "    [m,n] = size(G);\n",
    "    C = genCode(G);\n",
    "    d = minDist(C);\n",
    "    [Cp,Gp] = parityCode(n,m);\n",
    "    fprintf('min dist parity\\n');\n",
    "    dp = minDist(Cp);\n",
    "    fprintf('min dist code OK\\n');\n",
    "    fprintf('Minimum distance of the code: %d\\n',d);\n",
    "    fprintf('Minimum distance of the parity code: %d\\n',dp);\n",
    "end"
   ],
   "metadata": {
    "collapsed": false
   }
  },
  {
   "cell_type": "code",
   "execution_count": 128,
   "outputs": [
    {
     "name": "stdout",
     "output_type": "stream",
     "text": [
      "Created file '/Users/thomasprevost/github/ProtectInfo/BE2/hammingCode.m'.\n"
     ]
    }
   ],
   "source": [
    "%%file hammingCode.m\n",
    "%%%%%%%%%%%%%%%%%%%%%%%%%%%%%%%%%%%%%%%%%%%%%%%%%%%%%%%%%%%%%%%%%%%%%%%%%%%\n",
    "% hammingCode.m\n",
    "% Generates codes of a hamming coding given its parameters\n",
    "% Input: n - number of bits\n",
    "%        k - number of information bits\n",
    "% Output: H - hamming code matrix\n",
    "%         G - generator matrix\n",
    "%%%%%%%%%%%%%%%%%%%%%%%%%%%%%%%%%%%%%%%%%%%%%%%%%%%%%%%%%%%%%%%%%%%%%%%%%%%\n",
    "function [H,G] = hammingCode(n,k)\n",
    "    % cols of H are binary numbers from 1 to n written on n-k bits\n",
    "    H = zeros(n,n-k);\n",
    "    for i = 1:n-k\n",
    "        H(:,i) = str2num(dec2bin(i,n))';\n",
    "    end\n",
    "    % G is the matrix obtained by adding to H the identity matrix\n",
    "    G = [eye(n) H];\n",
    "    % H is the matrix obtained by adding to G the parity check matrix\n",
    "    H = [G rem(G*G',2)];\n",
    "end"
   ],
   "metadata": {
    "collapsed": false
   }
  },
  {
   "cell_type": "code",
   "execution_count": 129,
   "outputs": [],
   "source": [],
   "metadata": {
    "collapsed": false
   }
  },
  {
   "cell_type": "code",
   "execution_count": 130,
   "outputs": [
    {
     "name": "stdout",
     "output_type": "stream",
     "text": [
      "Created file '/Users/thomasprevost/github/ProtectInfo/BE2/main.m'.\n"
     ]
    }
   ],
   "source": [
    "%%file main.m\n",
    "%%%%%%%%%%%%%%%%%%%%%%%%%%%%%%%%%%%%%%%%%%%%%%%%%%%%%%%%%%%%%%%%%%%%%%%%%%%\n",
    "% main.m\n",
    "% Main script for the block code laboratory\n",
    "%%%%%%%%%%%%%%%%%%%%%%%%%%%%%%%%%%%%%%%%%%%%%%%%%%%%%%%%%%%%%%%%%%%%%%%%%%%\n",
    "clear all; close all; clc;\n",
    "\n",
    "genMatrix;\n",
    "C = genCode(G);\n",
    "d = minDist(C);\n",
    "fprintf('Minimum distance of the code: %d\\n',d);\n",
    "compareToParity(G);\n",
    "\n",
    "[H, Gh] = hammingCode(15,11);\n",
    "dh = minDist(Gh);\n",
    "fprintf('Minimum distance of the Hamming code: %d\\n',dh);"
   ],
   "metadata": {
    "collapsed": false
   }
  }
 ],
 "metadata": {
  "@webio": {
   "lastCommId": null,
   "lastKernelId": null
  },
  "kernelspec": {
   "name": "matlab",
   "language": "matlab",
   "display_name": "Matlab"
  },
  "language_info": {
   "codemirror_mode": "octave",
   "file_extension": ".m",
   "help_links": [
    {
     "text": "MetaKernel Magics",
     "url": "https://metakernel.readthedocs.io/en/latest/source/README.html"
    }
   ],
   "mimetype": "text/x-octave",
   "name": "matlab",
   "version": "0.17.1"
  }
 },
 "nbformat": 4,
 "nbformat_minor": 1
}
