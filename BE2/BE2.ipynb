{
 "cells": [
  {
   "cell_type": "markdown",
   "metadata": {},
   "source": [
    "# Channel coding laboratory"
   ]
  },
  {
   "cell_type": "markdown",
   "metadata": {},
   "source": [
    "## 1. Block codes"
   ]
  },
  {
   "cell_type": "code",
   "execution_count": 31,
   "outputs": [],
   "source": [
    "clear all; close all; clc;"
   ],
   "metadata": {
    "collapsed": false
   }
  },
  {
   "cell_type": "code",
   "execution_count": 32,
   "metadata": {},
   "outputs": [
    {
     "name": "stdout",
     "output_type": "stream",
     "text": [
      "Created file '/Users/thomasprevost/github/ProtectInfo/BE2/genMatrix.m'.\n"
     ]
    }
   ],
   "source": [
    "%%file genMatrix.m\n",
    "G = [[1 0 0 1 1 1 0 1 1 1]\n",
    "     [1 1 1 0 0 0 1 1 1 0]\n",
    "     [1 1 0 1 1 1 1 0 0 1]];\n"
   ]
  },
  {
   "cell_type": "code",
   "execution_count": 33,
   "outputs": [
    {
     "name": "stdout",
     "output_type": "stream",
     "text": [
      "Created file '/Users/thomasprevost/github/ProtectInfo/BE2/genCode.m'.\n"
     ]
    }
   ],
   "source": [
    "%%file genCode.m\n",
    "%%%%%%%%%%%%%%%%%%%%%%%%%%%%%%%%%%%%%%%%%%%%%%%%%%%%%%%%%%%%%%%%%%%%%%%%%%%\n",
    "% genCode.m\n",
    "% Generates all possible codewords of a given generator matrix\n",
    "% Input: G - generator matrix\n",
    "% Output: C - codeword matrix\n",
    "%%%%%%%%%%%%%%%%%%%%%%%%%%%%%%%%%%%%%%%%%%%%%%%%%%%%%%%%%%%%%%%%%%%%%%%%%%%\n",
    "function C = genCode(G)\n",
    "    [m,n] = size(G);\n",
    "    C = zeros(2^n,n);\n",
    "    for i = 0:2^n-1\n",
    "        b = de2bi(i,n);\n",
    "        C(i+1,:) = mod(b*G(1),2);\n",
    "    end\n",
    "end\n"
   ],
   "metadata": {
    "collapsed": false
   }
  },
  {
   "cell_type": "code",
   "execution_count": 34,
   "outputs": [
    {
     "name": "stdout",
     "output_type": "stream",
     "text": [
      "Created file '/Users/thomasprevost/github/ProtectInfo/BE2/minDist.m'.\n"
     ]
    }
   ],
   "source": [
    "%%file minDist.m\n",
    "%%%%%%%%%%%%%%%%%%%%%%%%%%%%%%%%%%%%%%%%%%%%%%%%%%%%%%%%%%%%%%%%%%%%%%%%%%%\n",
    "% minDist.m\n",
    "% Calculates the minimum distance of a given code\n",
    "% Input: C - codeword matrix\n",
    "% Output: d - minimum distance\n",
    "%%%%%%%%%%%%%%%%%%%%%%%%%%%%%%%%%%%%%%%%%%%%%%%%%%%%%%%%%%%%%%%%%%%%%%%%%%%\n",
    "function d = minDist(C)\n",
    "    [m,n] = size(C);\n",
    "    d = n;\n",
    "    for i = 1:m-1\n",
    "        for j = i+1:m\n",
    "            d = min(d, sum(abs(C(i,:)-C(j,:))));\n",
    "        end\n",
    "    end\n",
    "end"
   ],
   "metadata": {
    "collapsed": false
   }
  },
  {
   "cell_type": "code",
   "execution_count": 35,
   "outputs": [
    {
     "name": "stdout",
     "output_type": "stream",
     "text": [
      "Created file '/Users/thomasprevost/github/ProtectInfo/BE2/main.m'.\n"
     ]
    }
   ],
   "source": [
    "%%file main.m\n",
    "%%%%%%%%%%%%%%%%%%%%%%%%%%%%%%%%%%%%%%%%%%%%%%%%%%%%%%%%%%%%%%%%%%%%%%%%%%%\n",
    "% main.m\n",
    "% Main script for the block code laboratory\n",
    "%%%%%%%%%%%%%%%%%%%%%%%%%%%%%%%%%%%%%%%%%%%%%%%%%%%%%%%%%%%%%%%%%%%%%%%%%%%\n",
    "clear all; close all; clc;\n",
    "\n",
    "genMatrix;\n",
    "C = genCode(G);\n",
    "d = minDist(C);\n",
    "P = genParity(G);\n",
    "dp = compareParity(C);\n",
    "fprintf('Minimum distance of the code: %d\\n',d);\n",
    "fprintf('Minimum distance of the parity code: %d\\n',dp);"
   ],
   "metadata": {
    "collapsed": false
   }
  }
 ],
 "metadata": {
  "@webio": {
   "lastCommId": null,
   "lastKernelId": null
  },
  "kernelspec": {
   "name": "matlab",
   "language": "matlab",
   "display_name": "Matlab"
  },
  "language_info": {
   "codemirror_mode": "octave",
   "file_extension": ".m",
   "help_links": [
    {
     "text": "MetaKernel Magics",
     "url": "https://metakernel.readthedocs.io/en/latest/source/README.html"
    }
   ],
   "mimetype": "text/x-octave",
   "name": "matlab",
   "version": "0.17.1"
  }
 },
 "nbformat": 4,
 "nbformat_minor": 1
}
