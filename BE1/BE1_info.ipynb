{
 "cells": [
  {
   "cell_type": "markdown",
   "source": [
    "# BE 1 traitement et protection de l'information"
   ],
   "metadata": {
    "collapsed": false
   }
  },
  {
   "cell_type": "markdown",
   "source": [
    "## 1. Huffman Algorithm"
   ],
   "metadata": {
    "collapsed": false
   }
  },
  {
   "cell_type": "code",
   "execution_count": 91,
   "outputs": [],
   "source": [
    "clear all; close all; clc;"
   ],
   "metadata": {
    "collapsed": false
   }
  },
  {
   "cell_type": "markdown",
   "source": [
    "1. We first write the function `DMS(A, P, m, n)` that computes a discrete source matrix of size $m \\times n$ from an alphabet $A$ and a probability vector $P$."
   ],
   "metadata": {
    "collapsed": false
   }
  },
  {
   "cell_type": "code",
   "execution_count": 92,
   "outputs": [
    {
     "name": "stdout",
     "output_type": "stream",
     "text": [
      "Created file '/Users/thomasprevost/github/ProtectInfo/BE1/DMS.m'.\n"
     ]
    }
   ],
   "source": [
    "%%file DMS.m\n",
    "%%%%%%%%%%%%%%%%%%%%%%%%%%%%%%%%%%%%%%%%%%%%%%%%%%%%%%%%%%%%%%%%%%%%%%%%%%%\n",
    "% function DMS =  DMS(A, P, m, n)\n",
    "% generate discrete source matrix from alphabet A and probabilities P\n",
    "% m: number of rows, n: number of columns\n",
    "% DMS: discrete source matrix\n",
    "% returns DMS\n",
    "%%%%%%%%%%%%%%%%%%%%%%%%%%%%%%%%%%%%%%%%%%%%%%%%%%%%%%%%%%%%%%%%%%%%%%%%%%%\n",
    "function DMS =  DMS(A, P, m, n)\n",
    "    DMS = randsrc(m, n, [A; P]);\n",
    "end"
   ],
   "metadata": {
    "collapsed": false
   }
  },
  {
   "cell_type": "markdown",
   "source": [
    "We then try it with the following alphabet and probability vector, and compare the result with the one obtained with the `repmat` function."
   ],
   "metadata": {
    "collapsed": false
   }
  },
  {
   "cell_type": "code",
   "execution_count": 93,
   "outputs": [],
   "source": [
    "A = [0, 1];\n",
    "P = [0.5, 0.5];\n",
    "m = 5;\n",
    "n = 6;\n",
    "X = DMS(A, P, m, n);"
   ],
   "metadata": {
    "collapsed": false
   }
  },
  {
   "cell_type": "code",
   "execution_count": 94,
   "outputs": [],
   "source": [
    "Y = repmat(A, m, n);"
   ],
   "metadata": {
    "collapsed": false
   }
  },
  {
   "cell_type": "code",
   "execution_count": 95,
   "outputs": [
    {
     "name": "stdout",
     "output_type": "stream",
     "text": [
      "\n",
      "X =\n",
      "\n",
      "     0     0     0     1     0     1\n",
      "     0     1     0     0     1     0\n",
      "     1     0     0     0     1     1\n",
      "     0     1     0     0     0     1\n",
      "     0     0     0     1     0     0\n",
      "\n",
      "\n",
      "Y =\n",
      "\n",
      "     0     1     0     1     0     1     0     1     0     1     0     1\n",
      "     0     1     0     1     0     1     0     1     0     1     0     1\n",
      "     0     1     0     1     0     1     0     1     0     1     0     1\n",
      "     0     1     0     1     0     1     0     1     0     1     0     1\n",
      "     0     1     0     1     0     1     0     1     0     1     0     1\n",
      "\n"
     ]
    }
   ],
   "source": [
    "X\n",
    "Y"
   ],
   "metadata": {
    "collapsed": false
   }
  },
  {
   "cell_type": "markdown",
   "source": [
    "2. That being done, we write the function `entropy(P)` that computes the entropy of a discrete random variable from its probability vector, and test it with a probability vector."
   ],
   "metadata": {
    "collapsed": false
   }
  },
  {
   "cell_type": "code",
   "execution_count": 96,
   "outputs": [
    {
     "name": "stdout",
     "output_type": "stream",
     "text": [
      "Created file '/Users/thomasprevost/github/ProtectInfo/BE1/entropy.m'.\n"
     ]
    }
   ],
   "source": [
    "%%file entropy.m\n",
    "%%%%%%%%%%%%%%%%%%%%%%%%%%%%%%%%%%%%%%%%%%%%%%%%%%%%%%%%%%%%%%%%%%%%%%%%%%%\n",
    "% function H = entropy(P)\n",
    "% compute entropy of discrete random variable\n",
    "% P: probability vector\n",
    "% return H\n",
    "%%%%%%%%%%%%%%%%%%%%%%%%%%%%%%%%%%%%%%%%%%%%%%%%%%%%%%%%%%%%%%%%%%%%%%%%%%%\n",
    "function H = entropy(P)\n",
    "    H = -sum(P .* log2(P));\n",
    "end"
   ],
   "metadata": {
    "collapsed": false
   }
  },
  {
   "cell_type": "code",
   "execution_count": 97,
   "outputs": [
    {
     "name": "stdout",
     "output_type": "stream",
     "text": [
      "\n",
      "ans =\n",
      "\n",
      "    1.7610\n",
      "\n"
     ]
    }
   ],
   "source": [
    "P = [.2, .5, .1, .2];\n",
    "entropy(P)"
   ],
   "metadata": {
    "collapsed": false
   }
  },
  {
   "cell_type": "markdown",
   "source": [
    "3. We write the function `moybits(N, P)` that computes the average number of bits per symbol from a probability vector and a vector of codeword lengths."
   ],
   "metadata": {
    "collapsed": false
   }
  },
  {
   "cell_type": "code",
   "execution_count": 98,
   "outputs": [
    {
     "name": "stdout",
     "output_type": "stream",
     "text": [
      "Created file '/Users/thomasprevost/github/ProtectInfo/BE1/moybits.m'.\n"
     ]
    }
   ],
   "source": [
    "%%file moybits.m\n",
    "%%%%%%%%%%%%%%%%%%%%%%%%%%%%%%%%%%%%%%%%%%%%%%%%%%%%%%%%%%%%%%%%%%%%%%%%%%%\n",
    "% function moybits = moybits(N, P)\n",
    "% compute average number of bits per symbol\n",
    "% P: probability vector\n",
    "% N: length of codewords\n",
    "% moybits: average number of bits per symbol\n",
    "% returns moybits\n",
    "%%%%%%%%%%%%%%%%%%%%%%%%%%%%%%%%%%%%%%%%%%%%%%%%%%%%%%%%%%%%%%%%%%%%%%%%%%%\n",
    "function moybits = moybits(N, P)\n",
    "    moybits = sum(P .* N);\n",
    "end\n"
   ],
   "metadata": {
    "collapsed": false
   }
  },
  {
   "cell_type": "markdown",
   "source": [
    "4. Now, we try Matlab functions `huffmanenco` and `huffmandeco` to encode and decode a discrete source matrix."
   ],
   "metadata": {
    "collapsed": false
   }
  },
  {
   "cell_type": "code",
   "execution_count": 99,
   "outputs": [],
   "source": [
    "% test alphabet and probability vector\n",
    "A = [1:6];\n",
    "P = [.05, .125, .25, .12, .3, .155];\n",
    "\n",
    "% discrete source\n",
    "X = DMS(A, P, 3, 3);\n",
    "\n",
    "% create dictionary\n",
    "dict = huffmandict(A, P);"
   ],
   "metadata": {
    "collapsed": false
   }
  },
  {
   "cell_type": "code",
   "execution_count": 100,
   "outputs": [
    {
     "name": "stdout",
     "output_type": "stream",
     "text": [
      "\n",
      "X =\n",
      "\n",
      "     5     5     2     3     6     3     1     4     1\n",
      "\n",
      "\n",
      "E =\n",
      "\n",
      "  Columns 1 through 13\n",
      "\n",
      "     0     0     0     0     0     1     1     1     0     0     1     0     1\n",
      "\n",
      "  Columns 14 through 23\n",
      "\n",
      "     0     1     1     1     1     1     0     1     1     1\n",
      "\n",
      "\n",
      "D =\n",
      "\n",
      "     5     5     2     3     6     3     1     4     1\n",
      "\n"
     ]
    }
   ],
   "source": [
    "% reshape X to a vector\n",
    "X = reshape(X, 1, numel(X));\n",
    "X\n",
    "\n",
    "% encode\n",
    "E = huffmanenco(X, dict)\n",
    "\n",
    "% decode\n",
    "D = huffmandeco(E,dict)"
   ],
   "metadata": {
    "collapsed": false
   }
  },
  {
   "cell_type": "markdown",
   "source": [
    "We then try the same thing with different alphabets and probability vectors."
   ],
   "metadata": {
    "collapsed": false
   }
  },
  {
   "cell_type": "code",
   "execution_count": 101,
   "outputs": [
    {
     "name": "stdout",
     "output_type": "stream",
     "text": [
      "\n",
      "X =\n",
      "\n",
      "     5     4     6     5     2     5     2     6     1     5     5     5\n",
      "\n",
      "\n",
      "E =\n",
      "\n",
      "  Columns 1 through 13\n",
      "\n",
      "     0     0     1     1     0     0     1     0     0     0     0     1     1\n",
      "\n",
      "  Columns 14 through 26\n",
      "\n",
      "     0     0     0     1     1     0     1     0     1     1     1     0     0\n",
      "\n",
      "  Columns 27 through 30\n",
      "\n",
      "     0     0     0     0\n",
      "\n",
      "\n",
      "D =\n",
      "\n",
      "     5     4     6     5     2     5     2     6     1     5     5     5\n",
      "\n",
      "\n",
      "X2 =\n",
      "\n",
      "     7     9     8     8     6     9     8     9     9     7     6     6\n",
      "\n",
      "\n",
      "E2 =\n",
      "\n",
      "  Columns 1 through 13\n",
      "\n",
      "     1     0     0     0     0     1     0     1     1     1     0     0     0\n",
      "\n",
      "  Columns 14 through 26\n",
      "\n",
      "     0     1     0     0     0     0     1     0     1     1     0     1     1\n",
      "\n",
      "  Column 27\n",
      "\n",
      "     0\n",
      "\n",
      "\n",
      "D2 =\n",
      "\n",
      "     7     9     8     8     6     9     8     9     9     7     6     6\n",
      "\n"
     ]
    }
   ],
   "source": [
    "A = [1:6];\n",
    "P = [.05, .125, .25, .12, .3, .155];\n",
    "\n",
    "A2 = [5:9];\n",
    "P2 = [.05, .125, .25, .275, .3];\n",
    "\n",
    "X = DMS(A, P, 3, 4);\n",
    "X2 = DMS(A2, P2, 3, 4);\n",
    "\n",
    "dict = huffmandict(A, P);\n",
    "dict2 = huffmandict(A2, P2);\n",
    "\n",
    "X = reshape(X, 1, numel(X))\n",
    "E = huffmanenco(X, dict)\n",
    "D = huffmandeco(E,dict)\n",
    "\n",
    "X2 = reshape(X2, 1, numel(X2))\n",
    "E2 = huffmanenco(X2, dict2)\n",
    "D2 = huffmandeco(E2,dict2)"
   ],
   "metadata": {
    "collapsed": false
   }
  },
  {
   "cell_type": "markdown",
   "source": [
    "We now check the Kraft inequality for the two examples."
   ],
   "metadata": {
    "collapsed": false
   }
  },
  {
   "cell_type": "code",
   "execution_count": 102,
   "outputs": [
    {
     "name": "stdout",
     "output_type": "stream",
     "text": [
      "\n",
      "kraft =\n",
      "\n",
      "    0.0741\n",
      "\n",
      "\n",
      "kraft2 =\n",
      "\n",
      "    0.1360\n",
      "\n"
     ]
    }
   ],
   "source": [
    "% lengths of codewords\n",
    "N = cellfun(@length, dict(:,2));\n",
    "N2 = cellfun(@length, dict2(:,2));\n",
    "\n",
    "%lengths of alphabets\n",
    "L = length(A);\n",
    "L2 = length(A2);\n",
    "\n",
    "% kraft inequality\n",
    "kraft = sum(L.^(-N))\n",
    "kraft2 = sum(L2.^(-N2))"
   ],
   "metadata": {
    "collapsed": false
   }
  },
  {
   "cell_type": "markdown",
   "source": [
    "5. We use the functions `arithenco` and `arithdeco` to encode and decode a discrete source matrix on several alphabets and probability vectors."
   ],
   "metadata": {
    "collapsed": false
   }
  },
  {
   "cell_type": "code",
   "execution_count": 103,
   "outputs": [
    {
     "name": "stdout",
     "output_type": "stream",
     "text": [
      "\n",
      "ans = \n",
      "\n",
      "    \"sum D - X = 0\"\n",
      "\n",
      "\n",
      "ans = \n",
      "\n",
      "    \"sum D2 - X2 = 0\"\n",
      "\n"
     ]
    }
   ],
   "source": [
    "A = [1:4];\n",
    "P = [.1 .5 .3 .1];\n",
    "X = DMS(A, P, 1, 500);\n",
    "E = arithenco(X, [sum(X==1) sum(X==2) sum(X==3) sum(X==4)]);\n",
    "D = arithdeco(E, [sum(X==1) sum(X==2) sum(X==3) sum(X==4)], 500);\n",
    "\"sum D - X = \" + sum(D - X)\n",
    "\n",
    "A2 = [1:6];\n",
    "P2 = [.1 .2 .3 .1 .2 .1];\n",
    "X2 = DMS(A2, P2, 1, 500);\n",
    "E2 = arithenco(X2, [sum(X2==1) sum(X2==2) sum(X2==3) sum(X2==4) sum(X2==5) sum(X2==6)]);\n",
    "D2 = arithdeco(E2, [sum(X2==1) sum(X2==2) sum(X2==3) sum(X2==4) sum(X2==5) sum(X2==6)], 500);\n",
    "\"sum D2 - X2 = \" + sum(D2 - X2)"
   ],
   "metadata": {
    "collapsed": false
   }
  },
  {
   "cell_type": "markdown",
   "source": [
    "=> Encoding and decoding work fine, messages are the same before and after encoding and decoding."
   ],
   "metadata": {
    "collapsed": false
   }
  },
  {
   "cell_type": "code",
   "execution_count": 104,
   "outputs": [
    {
     "name": "stdout",
     "output_type": "stream",
     "text": [
      "\n",
      "kraft =\n",
      "\n",
      "    0.0625\n",
      "\n",
      "\n",
      "kraft2 =\n",
      "\n",
      "    0.0046\n",
      "\n"
     ]
    }
   ],
   "source": [
    "% Kraft inequality\n",
    "L = length(A);\n",
    "L2 = length(A2);\n",
    "N = ceil(log2(L));\n",
    "N2 = ceil(log2(L2));\n",
    "kraft = sum(L.^(-N))\n",
    "kraft2 = sum(L2.^(-N2))"
   ],
   "metadata": {
    "collapsed": false
   }
  }
 ],
 "metadata": {
  "kernelspec": {
   "display_name": "Matlab",
   "language": "matlab",
   "name": "matlab"
  },
  "language_info": {
   "codemirror_mode": "octave",
   "file_extension": ".m",
   "help_links": [
    {
     "text": "MetaKernel Magics",
     "url": "https://metakernel.readthedocs.io/en/latest/source/README.html"
    }
   ],
   "mimetype": "text/x-octave",
   "name": "matlab",
   "version": "0.17.1"
  }
 },
 "nbformat": 4,
 "nbformat_minor": 1
}
