{
 "cells": [
  {
   "cell_type": "markdown",
   "metadata": {
    "collapsed": false
   },
   "source": [
    "# BE 1 traitement et protection de l'information"
   ]
  },
  {
   "cell_type": "markdown",
   "metadata": {
    "collapsed": false
   },
   "source": [
    "## 1. Huffman Algorithm"
   ]
  },
  {
   "cell_type": "code",
   "execution_count": 110,
   "metadata": {
    "collapsed": false
   },
   "outputs": [
    {
     "name": "stdout",
     "output_type": "stream",
     "text": [
      "\n"
     ]
    }
   ],
   "source": [
    "clear all; close all; clc;"
   ]
  },
  {
   "cell_type": "markdown",
   "metadata": {
    "collapsed": false
   },
   "source": [
    "1. We first write the function `DMS(A, P, m, n)` that computes a discrete source matrix of size $m \\times n$ from an alphabet $A$ and a probability vector $P$."
   ]
  },
  {
   "cell_type": "code",
   "execution_count": 111,
   "metadata": {
    "collapsed": false
   },
   "outputs": [
    {
     "name": "stdout",
     "output_type": "stream",
     "text": [
      "Created file 'C:\\Users\\Mathis\\Desktop\\ProtectInfo\\DMS.m'.\n"
     ]
    }
   ],
   "source": [
    "%%file DMS.m\n",
    "function DMS =  DMS(A, P, m, n)\n",
    "    % generate discrete source matrix from alphabet A and probabilities P\n",
    "    % m: number of rows, n: number of columns\n",
    "    % DMS: discrete source matrix\n",
    "    % returns DMS\n",
    "    DMS = randsrc(m, n, [A; P]);\n",
    "end"
   ]
  },
  {
   "cell_type": "markdown",
   "metadata": {
    "collapsed": false
   },
   "source": [
    "We then try it with the following alphabet and probability vector, and compare the result with the one obtained with the `repmat` function."
   ]
  },
  {
   "cell_type": "code",
   "execution_count": 112,
   "metadata": {
    "collapsed": false
   },
   "outputs": [
    {
     "name": "stdout",
     "output_type": "stream",
     "text": [
      "\n"
     ]
    }
   ],
   "source": [
    "A = [0, 1];\n",
    "P = [0.5, 0.5];\n",
    "m = 5;\n",
    "n = 6;\n",
    "X = DMS(A, P, m, n);"
   ]
  },
  {
   "cell_type": "code",
   "execution_count": 113,
   "metadata": {
    "collapsed": false
   },
   "outputs": [
    {
     "name": "stdout",
     "output_type": "stream",
     "text": [
      "\n"
     ]
    }
   ],
   "source": [
    "Y = repmat(A, m, n);"
   ]
  },
  {
   "cell_type": "code",
   "execution_count": 114,
   "metadata": {
    "collapsed": false
   },
   "outputs": [
    {
     "name": "stdout",
     "output_type": "stream",
     "text": [
      "\n",
      "X =\n",
      "\n",
      "     0     1     1     0     0     1\n",
      "     1     0     0     1     0     1\n",
      "     0     0     1     0     1     0\n",
      "     1     0     0     1     0     1\n",
      "     1     1     0     1     0     1\n",
      "\n",
      "\n",
      "Y =\n",
      "\n",
      "     0     1     0     1     0     1     0     1     0     1     0     1\n",
      "     0     1     0     1     0     1     0     1     0     1     0     1\n",
      "     0     1     0     1     0     1     0     1     0     1     0     1\n",
      "     0     1     0     1     0     1     0     1     0     1     0     1\n",
      "     0     1     0     1     0     1     0     1     0     1     0     1\n",
      "\n",
      "\n"
     ]
    }
   ],
   "source": [
    "X\n",
    "Y"
   ]
  },
  {
   "cell_type": "markdown",
   "metadata": {
    "collapsed": false
   },
   "source": [
    "2. That being done, we write the function `entropy(P)` that computes the entropy of a discrete random variable from its probability vector, and test it with a probability vector."
   ]
  },
  {
   "cell_type": "code",
   "execution_count": 115,
   "metadata": {
    "collapsed": false
   },
   "outputs": [
    {
     "name": "stdout",
     "output_type": "stream",
     "text": [
      "Created file 'C:\\Users\\Mathis\\Desktop\\ProtectInfo\\entropy.m'.\n"
     ]
    }
   ],
   "source": [
    "%%file entropy.m\n",
    "function H = entropy(P)\n",
    "    % compute entropy of discrete random variable\n",
    "    % P: probability vector\n",
    "    % H: entropy\n",
    "    % returns H\n",
    "    H = -sum(P .* log2(P));\n",
    "end"
   ]
  },
  {
   "cell_type": "code",
   "execution_count": 116,
   "metadata": {
    "collapsed": false
   },
   "outputs": [
    {
     "name": "stdout",
     "output_type": "stream",
     "text": [
      "\n",
      "ans =\n",
      "\n",
      "    1.7610\n",
      "\n",
      "\n"
     ]
    }
   ],
   "source": [
    "P = [.2, .5, .1, .2];\n",
    "entropy(P)"
   ]
  },
  {
   "cell_type": "markdown",
   "metadata": {
    "collapsed": false
   },
   "source": [
    "3. We write the function `moybits(N, P)` that computes the average number of bits per symbol from a probability vector and a vector of codeword lengths."
   ]
  },
  {
   "cell_type": "code",
   "execution_count": 117,
   "metadata": {
    "collapsed": false
   },
   "outputs": [
    {
     "name": "stdout",
     "output_type": "stream",
     "text": [
      "Created file 'C:\\Users\\Mathis\\Desktop\\ProtectInfo\\moybits.m'.\n"
     ]
    }
   ],
   "source": [
    "%%file moybits.m\n",
    "function moybits = moybits(N, P)\n",
    "    % compute average number of bits per symbol\n",
    "    % P: probability vector\n",
    "    % N: length of codewords\n",
    "    % moybits: average number of bits per symbol\n",
    "    % returns moybits\n",
    "    moybits = sum(P .* N);\n",
    "end\n"
   ]
  },
  {
   "cell_type": "markdown",
   "metadata": {
    "collapsed": false
   },
   "source": [
    "4. Now, we try Matlab functions `huffmanenco`"
   ]
  },
  {
   "attachments": {},
   "cell_type": "markdown",
   "metadata": {},
   "source": [
    "## 2 Source coding of words with memory or unknown probability of occurrence"
   ]
  },
  {
   "attachments": {},
   "cell_type": "markdown",
   "metadata": {},
   "source": [
    "1. Constructing the `LempelZivDic` function using `DMS` and Matlab functions."
   ]
  },
  {
   "cell_type": "code",
   "execution_count": 124,
   "metadata": {},
   "outputs": [
    {
     "name": "stdout",
     "output_type": "stream",
     "text": [
      "Created file 'C:\\Users\\Mathis\\Desktop\\ProtectInfo\\LempelZivDic.m'.\n"
     ]
    }
   ],
   "source": [
    "%%file LempelZivDic.m\n",
    "\n",
    "function Dict = LempelZivDic(X, n)\n",
    "    %LempelZivDic - Generate a dictionary of length 2^n from the discrete source X.\n",
    "    %\n",
    "    % Syntax: Dict = LempelZivDic(X,n)\n",
    "    %\n",
    "    % The output of this function is a vector of structures (dict.mot and dict.code; a word of the code must be on n+1 bits).\n",
    "    %\n",
    "    % Input:\n",
    "    % - X: vector representing the discrete source\n",
    "    % - n: length of the code word (a word of the code must be on n+1 bits)\n",
    "    % Output:\n",
    "    % - Dict: vector of structures (dict.mot and dict.code)\n",
    "\n",
    "    % Initialize the dictionary with the single symbols from the source\n",
    "    Dict = struct('mot', num2str(X), 'code', num2str(0:length(X) - 1)');\n",
    "\n",
    "    % Initialize the variables for the loop\n",
    "    code_length = length(X);\n",
    "    code_number = code_length;\n",
    "\n",
    "    % Loop through the source to build the dictionary\n",
    "    for i = 1:length(X)\n",
    "        code_length = code_length + 1;\n",
    "        code_word = dec2bin(X(i));\n",
    "        j = i + 1;\n",
    "\n",
    "        while j <= length(X) && code_length <= 2 ^ n\n",
    "            code_word = strcat(dec2bin(code_word), dec2bin(X(j)));\n",
    "            j = j + 1;\n",
    "\n",
    "            if ~ismember(code_word, [Dict.mot])\n",
    "                Dict(code_number + 1) = struct('mot', {code_word}, 'code', code_number);\n",
    "                code_number = code_number + 1;\n",
    "\n",
    "                if code_number == 2 ^ n\n",
    "                    break;\n",
    "                end\n",
    "\n",
    "                code_word = dec2bin(X(i));\n",
    "                code_length = code_length + 1;\n",
    "            end\n",
    "\n",
    "        end\n",
    "\n",
    "        if code_number == 2 ^ n\n",
    "            break;\n",
    "        end\n",
    "\n",
    "    end\n",
    "\n",
    "    % Remove any extra entries in the dictionary if necessary\n",
    "    if code_number < 2 ^ n\n",
    "        Dict = Dict(1:code_number);\n",
    "    end\n",
    "\n",
    "end\n"
   ]
  },
  {
   "cell_type": "code",
   "execution_count": 125,
   "metadata": {},
   "outputs": [
    {
     "name": "stdout",
     "output_type": "stream",
     "text": [
      "\n",
      "n1 =\n",
      "\n",
      "     4\n",
      "\n",
      "\n",
      "ans =\n",
      "\n",
      "    '1  1  1  1  1  1  1  0  1  1  1  0  1  1  1  0  1  1  1  1  1  1  1  1  1  1  1  1  1  1  1  0  1  1  1  1  1  1  1  1  1  1  1  1  1  1  1  0  1  1'\n",
      "\n",
      "\n"
     ]
    }
   ],
   "source": [
    "n1 = 4\n",
    "X = (rand(1, 50) > 0.1);\n",
    "\n",
    "Dict1 = LempelZivDic(X, n1);\n",
    "Dict1.mot\n"
   ]
  },
  {
   "attachments": {},
   "cell_type": "markdown",
   "metadata": {},
   "source": [
    "2. Constructing the `LempelZivEnCo` function using `LempelZivDic` and Matlab functions."
   ]
  },
  {
   "cell_type": "code",
   "execution_count": 120,
   "metadata": {},
   "outputs": [
    {
     "name": "stdout",
     "output_type": "stream",
     "text": [
      "Created file 'C:\\Users\\Mathis\\Desktop\\ProtectInfo\\LempelZivEnCo.m'.\n"
     ]
    }
   ],
   "source": [
    "%%file LempelZivEnCo.m\n",
    "%%%%%%%%%%%%%%%%%%%%%%%%%%%%%%%%%%%%%%%%%%%%%%%%%%%%%%%%%%%%\n",
    "% function X = LempelZivEnCo(X,Dict)\n",
    "% LempelZivEnCo - Encodes a DMS X using the dictionary Dict.\n",
    "% returns the encoded DMS X.\n",
    "%%%%%%%%%%%%%%%%%%%%%%%%%%%%%%%%%%%%%%%%%%%%%%%%%%%%%%%%%%%%\n",
    "function E = LempelZivEnCo(X,Dict)\n",
    "    % initialize variables\n",
    "    E = [];\n",
    "    n = log2(length(Dict));\n",
    "    X = X(:)';\n",
    "    X = [X, zeros(1, n)];\n",
    "    i = 1;\n",
    "\n",
    "    % loop over the DMS\n",
    "    while i <= length(X) - n\n",
    "        % find the longest word in the dictionary that matches the current\n",
    "        % word\n",
    "        for j = 1:length(Dict)\n",
    "            if X(i:i+n) == Dict(j).mot\n",
    "                E = [E, Dict(j).code];\n",
    "                i = i + n + 1;\n",
    "                break\n",
    "            end\n",
    "        end\n",
    "    end\n",
    "\n",
    "    % remove the last n bits\n",
    "    E = E(1:end-n);\n",
    "end"
   ]
  },
  {
   "attachments": {},
   "cell_type": "markdown",
   "metadata": {},
   "source": [
    "3. Constructing the `LempelZivDeCo` function using `LempelZivDic` and Matlab functions."
   ]
  },
  {
   "cell_type": "code",
   "execution_count": 121,
   "metadata": {},
   "outputs": [
    {
     "name": "stdout",
     "output_type": "stream",
     "text": [
      "Created file 'C:\\Users\\Mathis\\Desktop\\ProtectInfo\\LempelZivDeco.m'.\n"
     ]
    }
   ],
   "source": [
    "%%file LempelZivDeco.m\n",
    "%%%%%%%%%%%%%%%%%%%%%%%%%%%%%%%%%%%%%%%%%%%%%%%%%%%%%%%%%%%%\n",
    "% function Y = LempelZivDeco(X,Dict)\n",
    "% LempelZivDeco - Decodes a received message Y using the Dict dictionary.\n",
    "% returns the decoded DMS Y.\n",
    "%%%%%%%%%%%%%%%%%%%%%%%%%%%%%%%%%%%%%%%%%%%%%%%%%%%%%%%%%%%%\n",
    "function Y = LempelZivDeco(X,Dict)\n",
    "    % initialize variables\n",
    "    Y = [];\n",
    "    n = log2(length(Dict));\n",
    "    X = X(:)';\n",
    "    X = [X, zeros(1, n)];\n",
    "    i = 1;\n",
    "\n",
    "    % loop over the DMS\n",
    "    while i <= length(X) - n\n",
    "        % find the longest word in the dictionary that matches the current\n",
    "        % word\n",
    "        for j = 1:length(Dict)\n",
    "            if X(i:i+n) == Dict(j).code\n",
    "                Y = [Y, Dict(j).mot];\n",
    "                i = i + n + 1;\n",
    "                break\n",
    "            end\n",
    "        end\n",
    "    end\n",
    "\n",
    "    % remove the last n bits\n",
    "    Y = Y(1:end-n);\n",
    "end"
   ]
  },
  {
   "attachments": {},
   "cell_type": "markdown",
   "metadata": {},
   "source": [
    "3. Applying functions on a large sequence (> 1000 bits)"
   ]
  },
  {
   "cell_type": "code",
   "execution_count": null,
   "metadata": {},
   "outputs": [],
   "source": []
  },
  {
   "attachments": {},
   "cell_type": "markdown",
   "metadata": {},
   "source": [
    "5. Given program to test the functions. Need to add the results in comments."
   ]
  },
  {
   "cell_type": "code",
   "execution_count": 123,
   "metadata": {},
   "outputs": [
    {
     "name": "stderr",
     "output_type": "stream",
     "text": [
      "\u001b[1;31mIndex exceeds the number of array elements. Index must not exceed 1.\n",
      "\n",
      "\u001b[0m"
     ]
    }
   ],
   "source": [
    "%Programme I\n",
    "n1 = 4;\n",
    "n2 = 11;\n",
    "n3 = 6;\n",
    "rand('state', 0);\n",
    "X = (rand(1, 50000) > 0.1);\n",
    "\n",
    "Dict1 = LempelZivDic(X, n1);\n",
    "longmot1 = Dict1(2 ^ n1).mot\n",
    "lgmot1 = length(Dict1(2 ^ n1).mot)\n",
    "\n",
    "Dict2 = LempelZivDic(X, n2);\n",
    "lgmot2 = length(Dict2(2 ^ n2).mot)\n",
    "\n",
    "X1 = LempelZivEnCo(X, Dict1);\n",
    "R1 = length(X1) / length(X)\n",
    "\n",
    "X2 = LempelZivEnCo(X, Dict2);\n",
    "R2 = length(X2) / length(X)\n",
    "\n",
    "Y = (rand(1, 1000) > 0.5);\n",
    "Y1 = LempelZivEnCo(Y, Dict2);\n",
    "RY1 = length(Y1) / length(Y)\n",
    "\n",
    "DictY = LempelZivDic(Y, 6);\n",
    "Y2 = LempelZivEnCo(Y, DictY);\n",
    "RY2 = length(Y2) / length(Y)\n",
    "\n",
    "X = X(1:1000);\n",
    "\n",
    "X2 = LempelZivEnCo(X, Dict2);\n",
    "R2 = length(X2) / length(X)\n",
    "\n",
    "X3 = LempelZivDeco(X2, Dict2);\n",
    "\n",
    "% The output of LempelZivDeco is a \"string\"\n",
    "for i = 1:length(X3)\n",
    "    X4(i) = str2num(X3(i))\n",
    "end\n",
    "\n",
    "BER = sum((X(1:length(X3)) - X4) .^ 2) %BER"
   ]
  }
 ],
 "metadata": {
  "kernelspec": {
   "display_name": "Matlab",
   "language": "matlab",
   "name": "matlab"
  },
  "language_info": {
   "codemirror_mode": "octave",
   "file_extension": ".m",
   "help_links": [
    {
     "text": "MetaKernel Magics",
     "url": "https://metakernel.readthedocs.io/en/latest/source/README.html"
    }
   ],
   "mimetype": "text/x-octave",
   "name": "matlab",
   "version": "0.17.1"
  },
  "vscode": {
   "interpreter": {
    "hash": "05fa5a9a77402fe086a4636f9a71778fa4ca2530c7be19dde571ce0f59a17cd3"
   }
  }
 },
 "nbformat": 4,
 "nbformat_minor": 1
}
