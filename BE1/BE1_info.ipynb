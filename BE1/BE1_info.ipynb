{
 "cells": [
  {
   "cell_type": "markdown",
   "source": [
    "## 1. Huffman Algorithm"
   ],
   "metadata": {
    "collapsed": false
   }
  },
  {
   "cell_type": "code",
   "execution_count": 93,
   "outputs": [],
   "source": [
    "clear all; close all; clc;"
   ],
   "metadata": {
    "collapsed": false
   }
  },
  {
   "cell_type": "markdown",
   "source": [
    "1. We first write the function `DMS(A, P, m, n)` that computes a discrete source matrix of size $m \\times n$ from an alphabet $A$ and a probability vector $P$."
   ],
   "metadata": {
    "collapsed": false
   }
  },
  {
   "cell_type": "code",
   "execution_count": 94,
   "outputs": [
    {
     "name": "stdout",
     "output_type": "stream",
     "text": [
      "Created file '/Users/thomasprevost/github/ProtectInfo/BE1/DMS.m'.\n"
     ]
    }
   ],
   "source": [
    "%%file DMS.m\n",
    "%%%%%%%%%%%%%%%%%%%%%%%%%%%%%%%%%%%%%%%%%%%%%%%%%%%%%%%%%%%%%%%%%%%%%%%%%%%\n",
    "% function DMS =  DMS(A, P, m, n)\n",
    "% generate discrete source matrix from alphabet A and probabilities P\n",
    "% m: number of rows, n: number of columns\n",
    "% DMS: discrete source matrix\n",
    "% returns DMS\n",
    "%%%%%%%%%%%%%%%%%%%%%%%%%%%%%%%%%%%%%%%%%%%%%%%%%%%%%%%%%%%%%%%%%%%%%%%%%%%\n",
    "function DMS =  DMS(A, P, m, n)\n",
    "    DMS = randsrc(m, n, [A; P]);\n",
    "end"
   ],
   "metadata": {
    "collapsed": false
   }
  },
  {
   "cell_type": "markdown",
   "source": [
    "We then try it with the following alphabet and probability vector, and compare the result with the one obtained with the `repmat` function."
   ],
   "metadata": {
    "collapsed": false
   }
  },
  {
   "cell_type": "code",
   "execution_count": 95,
   "outputs": [],
   "source": [
    "A = [0, 1];\n",
    "P = [0.5, 0.5];\n",
    "m = 5;\n",
    "n = 6;\n",
    "X = DMS(A, P, m, n);"
   ],
   "metadata": {
    "collapsed": false
   }
  },
  {
   "cell_type": "code",
   "execution_count": 96,
   "outputs": [],
   "source": [
    "Y = repmat(A, m, n);"
   ],
   "metadata": {
    "collapsed": false
   }
  },
  {
   "cell_type": "code",
   "execution_count": 97,
   "outputs": [
    {
     "name": "stdout",
     "output_type": "stream",
     "text": [
      "\n",
      "X =\n",
      "\n",
      "     1     1     0     0     0     1\n",
      "     1     1     0     1     1     1\n",
      "     1     0     1     1     1     0\n",
      "     1     1     0     1     0     1\n",
      "     0     1     1     0     0     0\n",
      "\n",
      "\n",
      "Y =\n",
      "\n",
      "     0     1     0     1     0     1     0     1     0     1     0     1\n",
      "     0     1     0     1     0     1     0     1     0     1     0     1\n",
      "     0     1     0     1     0     1     0     1     0     1     0     1\n",
      "     0     1     0     1     0     1     0     1     0     1     0     1\n",
      "     0     1     0     1     0     1     0     1     0     1     0     1\n",
      "\n"
     ]
    }
   ],
   "source": [
    "X\n",
    "Y"
   ],
   "metadata": {
    "collapsed": false
   }
  },
  {
   "cell_type": "markdown",
   "source": [
    "2. That being done, we write the function `entropy(P)` that computes the entropy of a discrete random variable from its probability vector, and test it with a probability vector."
   ],
   "metadata": {
    "collapsed": false
   }
  },
  {
   "cell_type": "code",
   "execution_count": 98,
   "outputs": [
    {
     "name": "stdout",
     "output_type": "stream",
     "text": [
      "Created file '/Users/thomasprevost/github/ProtectInfo/BE1/entropy.m'.\n"
     ]
    }
   ],
   "source": [
    "%%file entropy.m\n",
    "%%%%%%%%%%%%%%%%%%%%%%%%%%%%%%%%%%%%%%%%%%%%%%%%%%%%%%%%%%%%%%%%%%%%%%%%%%%\n",
    "% function H = entropy(P)\n",
    "% compute entropy of discrete random variable\n",
    "% P: probability vector\n",
    "% return H\n",
    "%%%%%%%%%%%%%%%%%%%%%%%%%%%%%%%%%%%%%%%%%%%%%%%%%%%%%%%%%%%%%%%%%%%%%%%%%%%\n",
    "function H = entropy(P)\n",
    "    H = -sum(P .* log2(P));\n",
    "end"
   ],
   "metadata": {
    "collapsed": false
   }
  },
  {
   "cell_type": "code",
   "execution_count": 99,
   "outputs": [
    {
     "name": "stdout",
     "output_type": "stream",
     "text": [
      "\n",
      "ans =\n",
      "\n",
      "    1.7610\n",
      "\n"
     ]
    }
   ],
   "source": [
    "P = [.2, .5, .1, .2];\n",
    "entropy(P)"
   ],
   "metadata": {
    "collapsed": false
   }
  },
  {
   "cell_type": "markdown",
   "source": [
    "3. We write the function `moybits(N, P)` that computes the average number of bits per symbol from a probability vector and a vector of codeword lengths."
   ],
   "metadata": {
    "collapsed": false
   }
  },
  {
   "cell_type": "code",
   "execution_count": 100,
   "outputs": [
    {
     "name": "stdout",
     "output_type": "stream",
     "text": [
      "Created file '/Users/thomasprevost/github/ProtectInfo/BE1/moybits.m'.\n"
     ]
    }
   ],
   "source": [
    "%%file moybits.m\n",
    "%%%%%%%%%%%%%%%%%%%%%%%%%%%%%%%%%%%%%%%%%%%%%%%%%%%%%%%%%%%%%%%%%%%%%%%%%%%\n",
    "% function moybits = moybits(N, P)\n",
    "% compute average number of bits per symbol\n",
    "% P: probability vector\n",
    "% N: length of codewords\n",
    "% moybits: average number of bits per symbol\n",
    "% returns moybits\n",
    "%%%%%%%%%%%%%%%%%%%%%%%%%%%%%%%%%%%%%%%%%%%%%%%%%%%%%%%%%%%%%%%%%%%%%%%%%%%\n",
    "function moybits = moybits(N, P)\n",
    "    moybits = sum(sum(P .* N)) / length(P);\n",
    "end\n"
   ],
   "metadata": {
    "collapsed": false
   }
  },
  {
   "cell_type": "markdown",
   "source": [
    "4. Now, we try Matlab functions `huffmanenco` and `huffmandeco` to encode and decode a discrete source matrix."
   ],
   "metadata": {
    "collapsed": false
   }
  },
  {
   "cell_type": "code",
   "execution_count": 101,
   "outputs": [],
   "source": [
    "% test alphabet and probability vector\n",
    "A = [1:6];\n",
    "P = [.05, .125, .25, .12, .3, .155];\n",
    "\n",
    "% discrete source\n",
    "X = DMS(A, P, 3, 3);\n",
    "\n",
    "% create dictionary\n",
    "dict = huffmandict(A, P);"
   ],
   "metadata": {
    "collapsed": false
   }
  },
  {
   "cell_type": "code",
   "execution_count": 102,
   "outputs": [
    {
     "name": "stdout",
     "output_type": "stream",
     "text": [
      "\n",
      "X =\n",
      "\n",
      "     5     1     5     6     5     3     4     3     5\n",
      "\n",
      "\n",
      "E =\n",
      "\n",
      "  Columns 1 through 13\n",
      "\n",
      "     0     0     1     1     1     0     0     0     1     0     0     0     1\n",
      "\n",
      "  Columns 14 through 21\n",
      "\n",
      "     0     1     1     0     1     0     0     0\n",
      "\n",
      "\n",
      "D =\n",
      "\n",
      "     5     1     5     6     5     3     4     3     5\n",
      "\n"
     ]
    }
   ],
   "source": [
    "% reshape X to a vector\n",
    "X = reshape(X, 1, numel(X));\n",
    "X\n",
    "\n",
    "% encode\n",
    "E = huffmanenco(X, dict)\n",
    "\n",
    "% decode\n",
    "D = huffmandeco(E,dict)"
   ],
   "metadata": {
    "collapsed": false
   }
  },
  {
   "cell_type": "markdown",
   "source": [
    "We then try the same thing with different alphabets and probability vectors."
   ],
   "metadata": {
    "collapsed": false
   }
  },
  {
   "cell_type": "code",
   "execution_count": 103,
   "outputs": [
    {
     "name": "stdout",
     "output_type": "stream",
     "text": [
      "\n",
      "X =\n",
      "\n",
      "     5     4     6     5     4     6     3     3     2     5     5     2\n",
      "\n",
      "\n",
      "E =\n",
      "\n",
      "  Columns 1 through 13\n",
      "\n",
      "     0     0     1     1     0     0     1     0     0     0     1     1     0\n",
      "\n",
      "  Columns 14 through 26\n",
      "\n",
      "     0     1     0     1     0     1     0     0     1     1     0     0     0\n",
      "\n",
      "  Columns 27 through 30\n",
      "\n",
      "     0     0     1     1\n",
      "\n",
      "\n",
      "D =\n",
      "\n",
      "     5     4     6     5     4     6     3     3     2     5     5     2\n",
      "\n",
      "\n",
      "X2 =\n",
      "\n",
      "     9     8     9     8     7     6     7     7     8     5     8     8\n",
      "\n",
      "\n",
      "E2 =\n",
      "\n",
      "  Columns 1 through 13\n",
      "\n",
      "     0     0     0     1     0     0     0     1     1     0     1     1     0\n",
      "\n",
      "  Columns 14 through 26\n",
      "\n",
      "     1     0     1     0     0     1     1     1     1     0     1     0     1\n",
      "\n",
      "\n",
      "D2 =\n",
      "\n",
      "     9     8     9     8     7     6     7     7     8     5     8     8\n",
      "\n"
     ]
    }
   ],
   "source": [
    "A = [1:6];\n",
    "P = [.05, .125, .25, .12, .3, .155];\n",
    "\n",
    "A2 = [5:9];\n",
    "P2 = [.05, .125, .25, .275, .3];\n",
    "\n",
    "X = DMS(A, P, 3, 4);\n",
    "X2 = DMS(A2, P2, 3, 4);\n",
    "\n",
    "dict = huffmandict(A, P);\n",
    "dict2 = huffmandict(A2, P2);\n",
    "\n",
    "X = reshape(X, 1, numel(X))\n",
    "E = huffmanenco(X, dict)\n",
    "D = huffmandeco(E,dict)\n",
    "\n",
    "X2 = reshape(X2, 1, numel(X2))\n",
    "E2 = huffmanenco(X2, dict2)\n",
    "D2 = huffmandeco(E2,dict2)"
   ],
   "metadata": {
    "collapsed": false
   }
  },
  {
   "cell_type": "markdown",
   "source": [
    "We now check the Kraft inequality for the two examples."
   ],
   "metadata": {
    "collapsed": false
   }
  },
  {
   "cell_type": "code",
   "execution_count": 104,
   "outputs": [
    {
     "name": "stdout",
     "output_type": "stream",
     "text": [
      "\n",
      "eff =\n",
      "\n",
      "    0.8986\n",
      "\n",
      "\n",
      "eff2 =\n",
      "\n",
      "    0.8852\n",
      "\n",
      "\n",
      "kraft =\n",
      "\n",
      "    0.0741\n",
      "\n",
      "\n",
      "kraft2 =\n",
      "\n",
      "    0.1360\n",
      "\n"
     ]
    }
   ],
   "source": [
    "% lengths of codewords\n",
    "N = cellfun(@length, dict(:,2));\n",
    "N2 = cellfun(@length, dict2(:,2));\n",
    "\n",
    "%lengths of alphabets\n",
    "L = length(A);\n",
    "L2 = length(A2);\n",
    "\n",
    "% efficiency\n",
    "eff = entropy(P) / moybits(N, P)\n",
    "eff2 = entropy(P2) / moybits(N2, P2)\n",
    "\n",
    "% kraft inequality\n",
    "kraft = sum(L.^(-N))\n",
    "kraft2 = sum(L2.^(-N2))"
   ],
   "metadata": {
    "collapsed": false
   }
  },
  {
   "cell_type": "markdown",
   "source": [
    "5. We use the functions `arithenco` and `arithdeco` to encode and decode a discrete source matrix on several alphabets and probability vectors."
   ],
   "metadata": {
    "collapsed": false
   }
  },
  {
   "cell_type": "code",
   "execution_count": 105,
   "outputs": [
    {
     "name": "stdout",
     "output_type": "stream",
     "text": [
      "\n",
      "ans = \n",
      "\n",
      "    \"sum D - X = 0\"\n",
      "\n",
      "\n",
      "ans = \n",
      "\n",
      "    \"sum D2 - X2 = 0\"\n",
      "\n"
     ]
    }
   ],
   "source": [
    "A = [1:4];\n",
    "P = [.1 .5 .3 .1];\n",
    "X = DMS(A, P, 1, 500);\n",
    "E = arithenco(X, [sum(X==1) sum(X==2) sum(X==3) sum(X==4)]);\n",
    "D = arithdeco(E, [sum(X==1) sum(X==2) sum(X==3) sum(X==4)], 500);\n",
    "\"sum D - X = \" + sum(D - X)\n",
    "\n",
    "A2 = [1:6];\n",
    "P2 = [.1 .2 .3 .1 .2 .1];\n",
    "X2 = DMS(A2, P2, 1, 500);\n",
    "E2 = arithenco(X2, [sum(X2==1) sum(X2==2) sum(X2==3) sum(X2==4) sum(X2==5) sum(X2==6)]);\n",
    "D2 = arithdeco(E2, [sum(X2==1) sum(X2==2) sum(X2==3) sum(X2==4) sum(X2==5) sum(X2==6)], 500);\n",
    "\"sum D2 - X2 = \" + sum(D2 - X2)"
   ],
   "metadata": {
    "collapsed": false
   }
  },
  {
   "cell_type": "markdown",
   "source": [
    "=> Encoding and decoding work fine, messages are the same before and after encoding and decoding."
   ],
   "metadata": {
    "collapsed": false
   }
  },
  {
   "cell_type": "code",
   "execution_count": 106,
   "outputs": [
    {
     "name": "stdout",
     "output_type": "stream",
     "text": [
      "\n",
      "kraft =\n",
      "\n",
      "    0.0625\n",
      "\n",
      "\n",
      "kraft2 =\n",
      "\n",
      "    0.0046\n",
      "\n"
     ]
    }
   ],
   "source": [
    "% Kraft inequality\n",
    "L = length(A);\n",
    "L2 = length(A2);\n",
    "N = ceil(log2(L));\n",
    "N2 = ceil(log2(L2));\n",
    "kraft = sum(L.^(-N))\n",
    "kraft2 = sum(L2.^(-N2))"
   ],
   "metadata": {
    "collapsed": false
   }
  },
  {
   "cell_type": "markdown",
   "source": [
    "## 2 Source coding of words with memory or unknown probability of occurrence"
   ],
   "metadata": {
    "collapsed": false
   }
  },
  {
   "cell_type": "markdown",
   "source": [
    "1. Constructing the `LempelZivDic` function using `DMS` and Matlab functions."
   ],
   "metadata": {
    "collapsed": false
   }
  },
  {
   "cell_type": "code",
   "execution_count": 107,
   "outputs": [
    {
     "name": "stdout",
     "output_type": "stream",
     "text": [
      "Created file '/Users/thomasprevost/github/ProtectInfo/BE1/LempelZivDic.m'.\n"
     ]
    }
   ],
   "source": [
    "%%file LempelZivDic.m\n",
    "\n",
    "function Dict = LempelZivDic(X, n)\n",
    "    %LempelZivDic - Generate a dictionary of length 2^n from the discrete source X.\n",
    "    %\n",
    "    % Syntax: Dict = LempelZivDic(X,n)\n",
    "    %\n",
    "    % The output of this function is a vector of structures (dict.mot and dict.code; a word of the code must be on n+1 bits).\n",
    "    %\n",
    "    % Input:\n",
    "    % - X: vector representing the discrete source\n",
    "    % - n: length of the code word (a word of the code must be on n+1 bits)\n",
    "    % Output:\n",
    "    % - Dict: vector of structures (dict.mot and dict.code)\n",
    "\n",
    "    % Initialize the dictionary with the single symbols from the source\n",
    "    Dict = struct('mot', num2str(X), 'code', num2str(0:length(X) - 1)');\n",
    "\n",
    "    % Initialize the variables for the loop\n",
    "    code_length = length(X);\n",
    "    code_number = code_length;\n",
    "\n",
    "    % Loop through the source to build the dictionary\n",
    "    for i = 1:length(X)\n",
    "        code_length = code_length + 1;\n",
    "        code_word = dec2bin(X(i));\n",
    "        j = i + 1;\n",
    "\n",
    "        while j <= length(X) && code_length <= 2 ^ n\n",
    "            code_word = strcat(dec2bin(code_word), dec2bin(X(j)));\n",
    "            j = j + 1;\n",
    "\n",
    "            if ~ismember(code_word, [Dict.mot])\n",
    "                Dict(code_number + 1) = struct('mot', {code_word}, 'code', code_number);\n",
    "                code_number = code_number + 1;\n",
    "\n",
    "                if code_number == 2 ^ n\n",
    "                    break;\n",
    "                end\n",
    "\n",
    "                code_word = dec2bin(X(i));\n",
    "                code_length = code_length + 1;\n",
    "            end\n",
    "\n",
    "        end\n",
    "\n",
    "        if code_number == 2 ^ n\n",
    "            break;\n",
    "        end\n",
    "\n",
    "    end\n",
    "\n",
    "    % Remove any extra entries in the dictionary if necessary\n",
    "    if code_number < 2 ^ n\n",
    "        Dict = Dict(1:code_number);\n",
    "    end\n",
    "\n",
    "end\n"
   ],
   "metadata": {
    "collapsed": false
   }
  },
  {
   "cell_type": "code",
   "execution_count": 108,
   "metadata": {},
   "outputs": [
    {
     "name": "stdout",
     "output_type": "stream",
     "text": [
      "\n",
      "n1 =\n",
      "\n",
      "     4\n",
      "\n",
      "\n",
      "ans =\n",
      "\n",
      "    '1  1  1  1  0  1  1  0  0  1  1  1  1  1  1  1  1  1  1  1  1  1  1  1  1  1  1  1  1  1  1  1  1  1  1  1  1  1  1  1  1  1  1  1  1  1  1  1  1  1'\n",
      "\n"
     ]
    }
   ],
   "source": [
    "n1 = 4\n",
    "X = (rand(1, 50) > 0.1);\n",
    "\n",
    "Dict1 = LempelZivDic(X, n1);\n",
    "Dict1.mot\n"
   ]
  },
  {
   "cell_type": "markdown",
   "source": [
    "2. Constructing the `LempelZivEnCo` function using `LempelZivDic` and Matlab functions."
   ],
   "metadata": {
    "collapsed": false
   }
  },
  {
   "cell_type": "code",
   "execution_count": 109,
   "metadata": {},
   "outputs": [
    {
     "name": "stdout",
     "output_type": "stream",
     "text": [
      "Created file '/Users/thomasprevost/github/ProtectInfo/BE1/LempelZivEnCo.m'.\n"
     ]
    }
   ],
   "source": [
    "%%file LempelZivEnCo.m\n",
    "%%%%%%%%%%%%%%%%%%%%%%%%%%%%%%%%%%%%%%%%%%%%%%%%%%%%%%%%%%%%\n",
    "% function X = LempelZivEnCo(X,Dict)\n",
    "% LempelZivEnCo - Encodes a DMS X using the dictionary Dict.\n",
    "% returns the encoded DMS X.\n",
    "%%%%%%%%%%%%%%%%%%%%%%%%%%%%%%%%%%%%%%%%%%%%%%%%%%%%%%%%%%%%\n",
    "function E = LempelZivEnCo(X,Dict)\n",
    "    % initialize variables\n",
    "    E = [];\n",
    "    n = log2(length(Dict));\n",
    "    X = X(:)';\n",
    "    X = [X, zeros(1, n)];\n",
    "    i = 1;\n",
    "\n",
    "    % loop over the DMS\n",
    "    while i <= length(X) - n\n",
    "        % find the longest word in the dictionary that matches the current\n",
    "        % word\n",
    "        for j = 1:length(Dict)\n",
    "            if X(i:i+n) == Dict(j).mot\n",
    "                E = [E, Dict(j).code];\n",
    "                i = i + n + 1;\n",
    "                break\n",
    "            end\n",
    "        end\n",
    "    end\n",
    "\n",
    "    % remove the last n bits\n",
    "    E = E(1:end-n);\n",
    "end"
   ]
  },
  {
   "cell_type": "markdown",
   "source": [
    "3. Constructing the `LempelZivDeCo` function using `LempelZivDic` and Matlab functions."
   ],
   "metadata": {
    "collapsed": false
   }
  },
  {
   "cell_type": "code",
   "execution_count": 110,
   "metadata": {},
   "outputs": [
    {
     "name": "stdout",
     "output_type": "stream",
     "text": [
      "Created file '/Users/thomasprevost/github/ProtectInfo/BE1/LempelZivDeco.m'.\n"
     ]
    }
   ],
   "source": [
    "%%file LempelZivDeco.m\n",
    "%%%%%%%%%%%%%%%%%%%%%%%%%%%%%%%%%%%%%%%%%%%%%%%%%%%%%%%%%%%%\n",
    "% function Y = LempelZivDeco(X,Dict)\n",
    "% LempelZivDeco - Decodes a received message Y using the Dict dictionary.\n",
    "% returns the decoded DMS Y.\n",
    "%%%%%%%%%%%%%%%%%%%%%%%%%%%%%%%%%%%%%%%%%%%%%%%%%%%%%%%%%%%%\n",
    "function Y = LempelZivDeco(X,Dict)\n",
    "    % initialize variables\n",
    "    Y = [];\n",
    "    n = log2(length(Dict));\n",
    "    X = X(:)';\n",
    "    X = [X, zeros(1, n)];\n",
    "    i = 1;\n",
    "\n",
    "    % loop over the DMS\n",
    "    while i <= length(X) - n\n",
    "        % find the longest word in the dictionary that matches the current\n",
    "        % word\n",
    "        for j = 1:length(Dict)\n",
    "            if X(i:i+n) == Dict(j).code\n",
    "                Y = [Y, Dict(j).mot];\n",
    "                i = i + n + 1;\n",
    "                break\n",
    "            end\n",
    "        end\n",
    "    end\n",
    "\n",
    "    % remove the last n bits\n",
    "    Y = Y(1:end-n);\n",
    "end"
   ]
  },
  {
   "cell_type": "markdown",
   "source": [
    "3. Applying functions on a large sequence (> 1000 bits)"
   ],
   "metadata": {
    "collapsed": false
   }
  },
  {
   "cell_type": "code",
   "execution_count": 111,
   "metadata": {},
   "outputs": [],
   "source": []
  },
  {
   "cell_type": "markdown",
   "source": [
    "5. Given program to test the functions. Need to add the results in comments."
   ],
   "metadata": {
    "collapsed": false
   }
  },
  {
   "cell_type": "code",
   "execution_count": 112,
   "outputs": [
    {
     "name": "stderr",
     "output_type": "stream",
     "text": [
      "\u001B[0;31mIndex exceeds the number of array elements. Index must not exceed 1.\n",
      "\n",
      "\u001B[0m"
     ]
    }
   ],
   "source": [
    "%Programme I\n",
    "n1 = 4;\n",
    "n2 = 11;\n",
    "n3 = 6;\n",
    "rand('state', 0);\n",
    "X = (rand(1, 50000) > 0.1);\n",
    "\n",
    "Dict1 = LempelZivDic(X, n1);\n",
    "longmot1 = Dict1(2 ^ n1).mot\n",
    "lgmot1 = length(Dict1(2 ^ n1).mot)\n",
    "\n",
    "Dict2 = LempelZivDic(X, n2);\n",
    "lgmot2 = length(Dict2(2 ^ n2).mot)\n",
    "\n",
    "X1 = LempelZivEnCo(X, Dict1);\n",
    "R1 = length(X1) / length(X)\n",
    "\n",
    "X2 = LempelZivEnCo(X, Dict2);\n",
    "R2 = length(X2) / length(X)\n",
    "\n",
    "Y = (rand(1, 1000) > 0.5);\n",
    "Y1 = LempelZivEnCo(Y, Dict2);\n",
    "RY1 = length(Y1) / length(Y)\n",
    "\n",
    "DictY = LempelZivDic(Y, 6);\n",
    "Y2 = LempelZivEnCo(Y, DictY);\n",
    "RY2 = length(Y2) / length(Y)\n",
    "\n",
    "X = X(1:1000);\n",
    "\n",
    "X2 = LempelZivEnCo(X, Dict2);\n",
    "R2 = length(X2) / length(X)\n",
    "\n",
    "X3 = LempelZivDeco(X2, Dict2);\n",
    "\n",
    "% The output of LempelZivDeco is a \"string\"\n",
    "for i = 1:length(X3)\n",
    "    X4(i) = str2num(X3(i))\n",
    "end\n",
    "\n",
    "BER = sum((X(1:length(X3)) - X4) .^ 2) %BER"
   ],
   "metadata": {
    "collapsed": false
   }
  }
 ],
 "metadata": {
  "kernelspec": {
   "display_name": "Matlab",
   "language": "matlab",
   "name": "matlab"
  },
  "language_info": {
   "codemirror_mode": "octave",
   "file_extension": ".m",
   "help_links": [
    {
     "text": "MetaKernel Magics",
     "url": "https://metakernel.readthedocs.io/en/latest/source/README.html"
    }
   ],
   "mimetype": "text/x-octave",
   "name": "matlab",
   "version": "0.17.1"
  },
  "title": "BE1 Traitement et protection de l'information",
  "authors": [
   {
    "name": "URIEN"
   },
   {
    "name": "PRÉVOST"
   }
  ],
  "vscode": {
   "interpreter": {
    "hash": "05fa5a9a77402fe086a4636f9a71778fa4ca2530c7be19dde571ce0f59a17cd3"
   }
  }
 },
 "nbformat": 4,
 "nbformat_minor": 1
}
