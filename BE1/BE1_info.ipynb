{
 "cells": [
  {
   "cell_type": "markdown",
   "source": [
    "# BE 1 traitement et protection de l'information"
   ],
   "metadata": {
    "collapsed": false
   }
  },
  {
   "cell_type": "markdown",
   "source": [
    "## 1. Huffman Algorithm"
   ],
   "metadata": {
    "collapsed": false
   }
  },
  {
   "cell_type": "code",
   "execution_count": 111,
   "outputs": [],
   "source": [
    "clear all; close all; clc;"
   ],
   "metadata": {
    "collapsed": false
   }
  },
  {
   "cell_type": "markdown",
   "source": [
    "1. We first write the function `DMS(A, P, m, n)` that computes a discrete source matrix of size $m \\times n$ from an alphabet $A$ and a probability vector $P$."
   ],
   "metadata": {
    "collapsed": false
   }
  },
  {
   "cell_type": "code",
   "execution_count": 112,
   "outputs": [
    {
     "name": "stdout",
     "output_type": "stream",
     "text": [
      "Created file '/Users/thomasprevost/Library/CloudStorage/OneDrive-EcoleNationaleSupérieuredeTechniquesAvancéesBretagne/Cours/2A/Information/BE/DMS.m'.\n"
     ]
    }
   ],
   "source": [
    "%%file DMS.m\n",
    "function DMS =  DMS(A, P, m, n)\n",
    "    % generate discrete source matrix from alphabet A and probabilities P\n",
    "    % m: number of rows, n: number of columns\n",
    "    % DMS: discrete source matrix\n",
    "    % returns DMS\n",
    "    DMS = randsrc(m, n, [A; P]);\n",
    "end"
   ],
   "metadata": {
    "collapsed": false
   }
  },
  {
   "cell_type": "markdown",
   "source": [
    "We then try it with the following alphabet and probability vector, and compare the result with the one obtained with the `repmat` function."
   ],
   "metadata": {
    "collapsed": false
   }
  },
  {
   "cell_type": "code",
   "execution_count": 113,
   "outputs": [],
   "source": [
    "A = [0, 1];\n",
    "P = [0.5, 0.5];\n",
    "m = 5;\n",
    "n = 6;\n",
    "X = DMS(A, P, m, n);"
   ],
   "metadata": {
    "collapsed": false
   }
  },
  {
   "cell_type": "code",
   "execution_count": 114,
   "outputs": [],
   "source": [
    "Y = repmat(A, m, n);"
   ],
   "metadata": {
    "collapsed": false
   }
  },
  {
   "cell_type": "code",
   "execution_count": 115,
   "outputs": [
    {
     "name": "stdout",
     "output_type": "stream",
     "text": [
      "\n",
      "X =\n",
      "\n",
      "     1     0     1     0     0     0\n",
      "     0     0     1     0     1     1\n",
      "     1     0     1     1     1     0\n",
      "     1     1     0     1     0     1\n",
      "     1     1     1     1     0     1\n",
      "\n",
      "\n",
      "Y =\n",
      "\n",
      "     0     1     0     1     0     1     0     1     0     1     0     1\n",
      "     0     1     0     1     0     1     0     1     0     1     0     1\n",
      "     0     1     0     1     0     1     0     1     0     1     0     1\n",
      "     0     1     0     1     0     1     0     1     0     1     0     1\n",
      "     0     1     0     1     0     1     0     1     0     1     0     1\n",
      "\n"
     ]
    }
   ],
   "source": [
    "X\n",
    "Y"
   ],
   "metadata": {
    "collapsed": false
   }
  },
  {
   "cell_type": "markdown",
   "source": [
    "2. That being done, we write the function `entropy(P)` that computes the entropy of a discrete random variable from its probability vector, and test it with a probability vector."
   ],
   "metadata": {
    "collapsed": false
   }
  },
  {
   "cell_type": "code",
   "execution_count": 119,
   "outputs": [
    {
     "name": "stdout",
     "output_type": "stream",
     "text": [
      "Created file '/Users/thomasprevost/Library/CloudStorage/OneDrive-EcoleNationaleSupérieuredeTechniquesAvancéesBretagne/Cours/2A/Information/BE/entropy.m'.\n"
     ]
    }
   ],
   "source": [
    "%%file entropy.m\n",
    "function H = entropy(P)\n",
    "    % compute entropy of discrete random variable\n",
    "    % P: probability vector\n",
    "    % H: entropy\n",
    "    % returns H\n",
    "    H = -sum(P .* log2(P));\n",
    "end"
   ],
   "metadata": {
    "collapsed": false
   }
  },
  {
   "cell_type": "code",
   "execution_count": 120,
   "outputs": [
    {
     "name": "stdout",
     "output_type": "stream",
     "text": [
      "\n",
      "ans =\n",
      "\n",
      "    1.7610\n",
      "\n"
     ]
    }
   ],
   "source": [
    "P = [.2, .5, .1, .2];\n",
    "entropy(P)"
   ],
   "metadata": {
    "collapsed": false
   }
  },
  {
   "cell_type": "markdown",
   "source": [
    "3. We write the function `moybits(N, P)` that computes the average number of bits per symbol from a probability vector and a vector of codeword lengths."
   ],
   "metadata": {
    "collapsed": false
   }
  },
  {
   "cell_type": "code",
   "execution_count": null,
   "outputs": [],
   "source": [
    "%%file moybits.m\n",
    "function moybits = moybits(N, P)\n",
    "    % compute average number of bits per symbol\n",
    "    % P: probability vector\n",
    "    % N: length of codewords\n",
    "    % moybits: average number of bits per symbol\n",
    "    % returns moybits\n",
    "    moybits = sum(P .* N);\n",
    "end\n"
   ],
   "metadata": {
    "collapsed": false
   }
  },
  {
   "cell_type": "markdown",
   "source": [
    "4. Now, we try Matlab functions `huffmanenco`"
   ],
   "metadata": {
    "collapsed": false
   }
  }
 ],
 "metadata": {
  "kernelspec": {
   "display_name": "Matlab",
   "language": "matlab",
   "name": "matlab"
  },
  "language_info": {
   "codemirror_mode": "octave",
   "file_extension": ".m",
   "help_links": [
    {
     "text": "MetaKernel Magics",
     "url": "https://metakernel.readthedocs.io/en/latest/source/README.html"
    }
   ],
   "mimetype": "text/x-octave",
   "name": "matlab",
   "version": "0.17.1"
  }
 },
 "nbformat": 4,
 "nbformat_minor": 1
}
