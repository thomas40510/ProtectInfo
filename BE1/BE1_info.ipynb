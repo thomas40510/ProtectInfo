{
 "cells": [
  {
   "cell_type": "markdown",
   "metadata": {
    "collapsed": false
   },
   "source": [
    "# BE 1 traitement et protection de l'information"
   ]
  },
  {
   "cell_type": "markdown",
   "metadata": {
    "collapsed": false
   },
   "source": [
    "## 1. Huffman Algorithm"
   ]
  },
  {
   "cell_type": "code",
   "execution_count": 1,
   "metadata": {
    "collapsed": false
   },
   "outputs": [
    {
     "name": "stdout",
     "output_type": "stream",
     "text": [
      "\n"
     ]
    }
   ],
   "source": [
    "clear all; close all; clc;"
   ]
  },
  {
   "cell_type": "markdown",
   "metadata": {
    "collapsed": false
   },
   "source": [
    "1. We first write the function `DMS(A, P, m, n)` that computes a discrete source matrix of size $m \\times n$ from an alphabet $A$ and a probability vector $P$."
   ]
  },
  {
   "cell_type": "code",
   "execution_count": 2,
   "metadata": {
    "collapsed": false
   },
   "outputs": [
    {
     "name": "stdout",
     "output_type": "stream",
     "text": [
      "Created file 'C:\\Users\\Mathis\\Desktop\\ProtectInfo\\DMS.m'.\n"
     ]
    }
   ],
   "source": [
    "%%file DMS.m\n",
    "function DMS =  DMS(A, P, m, n)\n",
    "    % generate discrete source matrix from alphabet A and probabilities P\n",
    "    % m: number of rows, n: number of columns\n",
    "    % DMS: discrete source matrix\n",
    "    % returns DMS\n",
    "    DMS = randsrc(m, n, [A; P]);\n",
    "end"
   ]
  },
  {
   "cell_type": "markdown",
   "metadata": {
    "collapsed": false
   },
   "source": [
    "We then try it with the following alphabet and probability vector, and compare the result with the one obtained with the `repmat` function."
   ]
  },
  {
   "cell_type": "code",
   "execution_count": 3,
   "metadata": {
    "collapsed": false
   },
   "outputs": [
    {
     "name": "stdout",
     "output_type": "stream",
     "text": [
      "\n"
     ]
    }
   ],
   "source": [
    "A = [0, 1];\n",
    "P = [0.5, 0.5];\n",
    "m = 5;\n",
    "n = 6;\n",
    "X = DMS(A, P, m, n);"
   ]
  },
  {
   "cell_type": "code",
   "execution_count": 4,
   "metadata": {
    "collapsed": false
   },
   "outputs": [
    {
     "name": "stdout",
     "output_type": "stream",
     "text": [
      "\n"
     ]
    }
   ],
   "source": [
    "Y = repmat(A, m, n);"
   ]
  },
  {
   "cell_type": "code",
   "execution_count": 5,
   "metadata": {
    "collapsed": false
   },
   "outputs": [
    {
     "name": "stdout",
     "output_type": "stream",
     "text": [
      "\n",
      "X =\n",
      "\n",
      "     1     0     0     0     1     1\n",
      "     1     0     1     0     0     1\n",
      "     0     1     1     1     1     0\n",
      "     1     1     0     1     1     1\n",
      "     1     1     1     1     1     0\n",
      "\n",
      "\n",
      "Y =\n",
      "\n",
      "     0     1     0     1     0     1     0     1     0     1     0     1\n",
      "     0     1     0     1     0     1     0     1     0     1     0     1\n",
      "     0     1     0     1     0     1     0     1     0     1     0     1\n",
      "     0     1     0     1     0     1     0     1     0     1     0     1\n",
      "     0     1     0     1     0     1     0     1     0     1     0     1\n",
      "\n",
      "\n"
     ]
    }
   ],
   "source": [
    "X\n",
    "Y"
   ]
  },
  {
   "cell_type": "markdown",
   "metadata": {
    "collapsed": false
   },
   "source": [
    "2. That being done, we write the function `entropy(P)` that computes the entropy of a discrete random variable from its probability vector, and test it with a probability vector."
   ]
  },
  {
   "cell_type": "code",
   "execution_count": 6,
   "metadata": {
    "collapsed": false
   },
   "outputs": [
    {
     "name": "stdout",
     "output_type": "stream",
     "text": [
      "Created file 'C:\\Users\\Mathis\\Desktop\\ProtectInfo\\entropy.m'.\n"
     ]
    }
   ],
   "source": [
    "%%file entropy.m\n",
    "function H = entropy(P)\n",
    "    % compute entropy of discrete random variable\n",
    "    % P: probability vector\n",
    "    % H: entropy\n",
    "    % returns H\n",
    "    H = -sum(P .* log2(P));\n",
    "end"
   ]
  },
  {
   "cell_type": "code",
   "execution_count": 7,
   "metadata": {
    "collapsed": false
   },
   "outputs": [
    {
     "name": "stdout",
     "output_type": "stream",
     "text": [
      "\n",
      "ans =\n",
      "\n",
      "    1.7610\n",
      "\n",
      "\n"
     ]
    }
   ],
   "source": [
    "P = [.2, .5, .1, .2];\n",
    "entropy(P)"
   ]
  },
  {
   "cell_type": "markdown",
   "metadata": {
    "collapsed": false
   },
   "source": [
    "3. We write the function `moybits(N, P)` that computes the average number of bits per symbol from a probability vector and a vector of codeword lengths."
   ]
  },
  {
   "cell_type": "code",
   "execution_count": 8,
   "metadata": {
    "collapsed": false
   },
   "outputs": [
    {
     "name": "stdout",
     "output_type": "stream",
     "text": [
      "Created file 'C:\\Users\\Mathis\\Desktop\\ProtectInfo\\moybits.m'.\n"
     ]
    }
   ],
   "source": [
    "%%file moybits.m\n",
    "function moybits = moybits(N, P)\n",
    "    % compute average number of bits per symbol\n",
    "    % P: probability vector\n",
    "    % N: length of codewords\n",
    "    % moybits: average number of bits per symbol\n",
    "    % returns moybits\n",
    "    moybits = sum(P .* N);\n",
    "end\n"
   ]
  },
  {
   "cell_type": "markdown",
   "metadata": {
    "collapsed": false
   },
   "source": [
    "4. Now, we try Matlab functions `huffmanenco`"
   ]
  },
  {
   "attachments": {},
   "cell_type": "markdown",
   "metadata": {},
   "source": [
    "## 2 Source coding of words with memory or unknown probability of occurrence"
   ]
  },
  {
   "attachments": {},
   "cell_type": "markdown",
   "metadata": {},
   "source": [
    "1. Constructing the `LempelZivDic` function using `DMS` and Matlab functions."
   ]
  },
  {
   "cell_type": "code",
   "execution_count": 96,
   "metadata": {},
   "outputs": [
    {
     "name": "stdout",
     "output_type": "stream",
     "text": [
      "Created file 'C:\\Users\\Mathis\\Desktop\\ProtectInfo\\LempelZivDic.m'.\n"
     ]
    }
   ],
   "source": [
    "%%file LempelZivDic.m\n",
    "\n",
    "% function Dict = LempelZivDic(X, n)\n",
    "%     %LempelZivDic - Generate a dictionary of length 2^n from the discrete source X.\n",
    "%     %\n",
    "%     % Syntax: Dict = LempelZivDic(X,n)\n",
    "%     %\n",
    "%     % The output of this function is a vector of structures (dict.mot and dict.code; a word of the code must be on n+1 bits).\n",
    "%     % On parcourt tout le vecteur X pour chercher les mots uniques qui le constituent\n",
    "%     % On les stocke dans un vecteur de structures\n",
    "%     % On parcourt ensuite ce vecteur pour créer le code de chaque mot\n",
    "%     % On stocke le code dans la structure correspondante\n",
    "%     % On retourne le vecteur de structures\n",
    "%     mots = [];\n",
    "%     codes = [];\n",
    "%     i = 1;\n",
    "%     mot = dec2bin(X(i));\n",
    "\n",
    "%     while i < length(X)\n",
    "\n",
    "%         if ~ismember(mot, [Dict.mot])\n",
    "%             mots(end + 1) = mot;\n",
    "%             % Dict(end).code = dec2bin(i-1,n+1);\n",
    "%         else\n",
    "%             i = i + 1;\n",
    "%             mot = strcat(mot, dec2bin(X(i)));\n",
    "%         end\n",
    "\n",
    "%     end\n",
    "\n",
    "%     for mot = mots\n",
    "%         codes(end + 1) = dec2bin(find([mots] == mot) - 1, n + 1);\n",
    "%     end\n",
    "\n",
    "%     Dict = struct('mot', mots, 'code', codes);\n",
    "% end\n",
    "\n",
    "function Dict = LempelZivDic(X, n)\n",
    "    %LempelZivDic - Generate a dictionary of length 2^n from the discrete source X.\n",
    "    %\n",
    "    % Syntax: Dict = LempelZivDic(X,n)\n",
    "    %\n",
    "    % The output of this function is a vector of structures (dict.mot and dict.code; a word of the code must be on n+1 bits).\n",
    "    % \n",
    "    % Input:\n",
    "    % - X: vector representing the discrete source\n",
    "    % - n: length of the code word (a word of the code must be on n+1 bits)\n",
    "    % Output:\n",
    "    % - Dict: vector of structures (dict.mot and dict.code)\n",
    "\n",
    "    % Initialize the dictionary with the single symbols from the source\n",
    "    Dict = struct('mot', num2cell(X), 'code', num2cell(1:length(X) - 1)');\n",
    "\n",
    "    % Initialize the variables for the loop\n",
    "    code_length = length(X);\n",
    "    code_number = code_length;\n",
    "\n",
    "    % Loop through the source to build the dictionary\n",
    "    for i = 1:length(X)\n",
    "        code_length = code_length + 1;\n",
    "        code_word = X(i);\n",
    "        j = i + 1;\n",
    "\n",
    "        while j <= length(X) && code_length <= 2 ^ n\n",
    "            code_word = [code_word, X(j)];\n",
    "            j = j + 1;\n",
    "\n",
    "            if ~ismember(code_word, [Dict.mot])\n",
    "                Dict(code_number + 1) = struct('mot', {code_word}, 'code', code_number);\n",
    "                code_number = code_number + 1;\n",
    "                code_word = X(i);\n",
    "                code_length = code_length + 1;\n",
    "            end\n",
    "\n",
    "        end\n",
    "\n",
    "    end\n",
    "\n",
    "    % Remove any extra entries in the dictionary if necessary\n",
    "    if code_length > 2 ^ n\n",
    "        Dict = Dict(1:2 ^ n);\n",
    "    end\n",
    "\n",
    "end\n"
   ]
  },
  {
   "cell_type": "code",
   "execution_count": 98,
   "metadata": {},
   "outputs": [
    {
     "name": "stderr",
     "output_type": "stream",
     "text": [
      "\u001b[1;31m\n",
      "  File C:\\Users\\Mathis\\Desktop\\ProtectInfo\\LempelZivDic.m, line 51, in LempelZivDic\n",
      "Array dimensions of input '4' must match those of input '2', or be scalar.\n",
      "\n",
      "\u001b[0m"
     ]
    }
   ],
   "source": [
    "n1 = 4\n",
    "X = (rand(1, 50) > 0.1);\n",
    "\n",
    "Dict1 = LempelZivDic(X, n1);\n",
    "Dict1(1).mot\n"
   ]
  },
  {
   "attachments": {},
   "cell_type": "markdown",
   "metadata": {},
   "source": [
    "2. Constructing the `LempelZivEnCo` function using `LempelZivDic` and Matlab functions."
   ]
  },
  {
   "cell_type": "code",
   "execution_count": 10,
   "metadata": {},
   "outputs": [
    {
     "name": "stdout",
     "output_type": "stream",
     "text": [
      "Created file 'C:\\Users\\Mathis\\Desktop\\ProtectInfo\\LempelZivEnCo.m'.\n"
     ]
    }
   ],
   "source": [
    "%%file LempelZivEnCo.m\n",
    "%%%%%%%%%%%%%%%%%%%%%%%%%%%%%%%%%%%%%%%%%%%%%%%%%%%%%%%%%%%%\n",
    "% function X = LempelZivEnCo(X,Dict)\n",
    "% LempelZivEnCo - Encodes a DMS X using the dictionary Dict.\n",
    "% returns the encoded DMS X.\n",
    "%%%%%%%%%%%%%%%%%%%%%%%%%%%%%%%%%%%%%%%%%%%%%%%%%%%%%%%%%%%%\n",
    "function E = LempelZivEnCo(X,Dict)\n",
    "    % initialize variables\n",
    "    E = [];\n",
    "    n = log2(length(Dict));\n",
    "    X = X(:)';\n",
    "    X = [X, zeros(1, n)];\n",
    "    i = 1;\n",
    "\n",
    "    % loop over the DMS\n",
    "    while i <= length(X) - n\n",
    "        % find the longest word in the dictionary that matches the current\n",
    "        % word\n",
    "        for j = 1:length(Dict)\n",
    "            if X(i:i+n) == Dict(j).mot\n",
    "                E = [E, Dict(j).code];\n",
    "                i = i + n + 1;\n",
    "                break\n",
    "            end\n",
    "        end\n",
    "    end\n",
    "\n",
    "    % remove the last n bits\n",
    "    E = E(1:end-n);\n",
    "end"
   ]
  },
  {
   "attachments": {},
   "cell_type": "markdown",
   "metadata": {},
   "source": [
    "3. Constructing the `LempelZivDeCo` function using `LempelZivDic` and Matlab functions."
   ]
  },
  {
   "cell_type": "code",
   "execution_count": 14,
   "metadata": {},
   "outputs": [
    {
     "name": "stdout",
     "output_type": "stream",
     "text": [
      "Created file 'C:\\Users\\Mathis\\Desktop\\ProtectInfo\\LempelZivDeco.m'.\n"
     ]
    }
   ],
   "source": [
    "%%file LempelZivDeco.m\n",
    "%%%%%%%%%%%%%%%%%%%%%%%%%%%%%%%%%%%%%%%%%%%%%%%%%%%%%%%%%%%%\n",
    "% function Y = LempelZivDeco(X,Dict)\n",
    "% LempelZivDeco - Decodes a received message Y using the Dict dictionary.\n",
    "% returns the decoded DMS Y.\n",
    "%%%%%%%%%%%%%%%%%%%%%%%%%%%%%%%%%%%%%%%%%%%%%%%%%%%%%%%%%%%%\n",
    "function Y = LempelZivDeco(X,Dict)\n",
    "    % initialize variables\n",
    "    Y = [];\n",
    "    n = log2(length(Dict));\n",
    "    X = X(:)';\n",
    "    X = [X, zeros(1, n)];\n",
    "    i = 1;\n",
    "\n",
    "    % loop over the DMS\n",
    "    while i <= length(X) - n\n",
    "        % find the longest word in the dictionary that matches the current\n",
    "        % word\n",
    "        for j = 1:length(Dict)\n",
    "            if X(i:i+n) == Dict(j).code\n",
    "                Y = [Y, Dict(j).mot];\n",
    "                i = i + n + 1;\n",
    "                break\n",
    "            end\n",
    "        end\n",
    "    end\n",
    "\n",
    "    % remove the last n bits\n",
    "    Y = Y(1:end-n);\n",
    "end"
   ]
  },
  {
   "attachments": {},
   "cell_type": "markdown",
   "metadata": {},
   "source": [
    "3. Applying functions on a large sequence (> 1000 bits)"
   ]
  },
  {
   "cell_type": "code",
   "execution_count": null,
   "metadata": {},
   "outputs": [],
   "source": []
  },
  {
   "attachments": {},
   "cell_type": "markdown",
   "metadata": {},
   "source": [
    "5. Given program to test the functions. Need to add the results in comments."
   ]
  },
  {
   "cell_type": "code",
   "execution_count": 84,
   "metadata": {},
   "outputs": [
    {
     "name": "stderr",
     "output_type": "stream",
     "text": [
      "\u001b[1;31m\n",
      "  File C:\\Users\\Mathis\\Desktop\\ProtectInfo\\LempelZivDic.m, line 20, in LempelZivDic\n",
      "Unrecognized function or variable 'Dict'.\n",
      "\n",
      "\u001b[0m"
     ]
    }
   ],
   "source": [
    "%Programme I\n",
    "n1 = 4;\n",
    "n2 = 11;\n",
    "n3 = 6;\n",
    "rand('state', 0);\n",
    "X = (rand(1, 50000) > 0.1);\n",
    "\n",
    "Dict1 = LempelZivDic(X, n1);\n",
    "longmot1 = Dict1(2 ^ n1).mot\n",
    "lgmot1 = length(Dict1(2 ^ n1).mot)\n",
    "\n",
    "Dict2 = LempelZivDic(X, n2);\n",
    "lgmot2 = length(Dict2(2 ^ n2).mot)\n",
    "\n",
    "X1 = LempelZivEnCo(X, Dict1);\n",
    "R1 = length(X1) / length(X)\n",
    "\n",
    "X2 = LempelZivEnCo(X, Dict2);\n",
    "R2 = length(X2) / length(X)\n",
    "\n",
    "Y = (rand(1, 1000) > 0.5);\n",
    "Y1 = LempelZivEnCo(Y, Dict2);\n",
    "RY1 = length(Y1) / length(Y)\n",
    "\n",
    "DictY = LempelZivDic(Y, 6);\n",
    "Y2 = LempelZivEnCo(Y, DictY);\n",
    "RY2 = length(Y2) / length(Y)\n",
    "\n",
    "X = X(1:1000);\n",
    "\n",
    "X2 = LempelZivEnCo(X, Dict2);\n",
    "R2 = length(X2) / length(X)\n",
    "\n",
    "X3 = LempelZivDeco(X2, Dict2);\n",
    "\n",
    "% The output of LempelZivDeco is a \"string\"\n",
    "for i = 1:length(X3)\n",
    "    X4(i) = str2num(X3(i))\n",
    "end\n",
    "\n",
    "BER = sum((X(1:length(X3)) - X4) .^ 2) %BER"
   ]
  }
 ],
 "metadata": {
  "kernelspec": {
   "display_name": "Matlab",
   "language": "matlab",
   "name": "matlab"
  },
  "language_info": {
   "codemirror_mode": "octave",
   "file_extension": ".m",
   "help_links": [
    {
     "text": "MetaKernel Magics",
     "url": "https://metakernel.readthedocs.io/en/latest/source/README.html"
    }
   ],
   "mimetype": "text/x-octave",
   "name": "matlab",
   "version": "0.17.1"
  },
  "vscode": {
   "interpreter": {
    "hash": "05fa5a9a77402fe086a4636f9a71778fa4ca2530c7be19dde571ce0f59a17cd3"
   }
  }
 },
 "nbformat": 4,
 "nbformat_minor": 1
}
