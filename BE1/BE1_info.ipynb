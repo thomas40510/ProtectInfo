{
 "cells": [
  {
   "cell_type": "markdown",
   "metadata": {
    "collapsed": false
   },
   "source": [
    "# BE 1 traitement et protection de l'information"
   ]
  },
  {
   "cell_type": "markdown",
   "metadata": {
    "collapsed": false
   },
   "source": [
    "## 1. Huffman Algorithm"
   ]
  },
  {
   "cell_type": "code",
   "execution_count": 6,
   "metadata": {
    "collapsed": false
   },
   "outputs": [
    {
     "name": "stdout",
     "output_type": "stream",
     "text": [
      "\n"
     ]
    }
   ],
   "source": [
    "clear all; close all; clc;"
   ]
  },
  {
   "cell_type": "markdown",
   "metadata": {
    "collapsed": false
   },
   "source": [
    "1. We first write the function `DMS(A, P, m, n)` that computes a discrete source matrix of size $m \\times n$ from an alphabet $A$ and a probability vector $P$."
   ]
  },
  {
   "cell_type": "code",
   "execution_count": 7,
   "metadata": {
    "collapsed": false
   },
   "outputs": [
    {
     "name": "stdout",
     "output_type": "stream",
     "text": [
      "Created file 'C:\\Users\\Mathis\\Desktop\\information_theory\\DMS.m'.\n"
     ]
    }
   ],
   "source": [
    "%%file DMS.m\n",
    "function DMS =  DMS(A, P, m, n)\n",
    "    % generate discrete source matrix from alphabet A and probabilities P\n",
    "    % m: number of rows, n: number of columns\n",
    "    % DMS: discrete source matrix\n",
    "    % returns DMS\n",
    "    DMS = randsrc(m, n, [A; P]);\n",
    "end"
   ]
  },
  {
   "cell_type": "markdown",
   "metadata": {
    "collapsed": false
   },
   "source": [
    "We then try it with the following alphabet and probability vector, and compare the result with the one obtained with the `repmat` function."
   ]
  },
  {
   "cell_type": "code",
   "execution_count": 8,
   "metadata": {
    "collapsed": false
   },
   "outputs": [
    {
     "name": "stdout",
     "output_type": "stream",
     "text": [
      "\n"
     ]
    }
   ],
   "source": [
    "A = [0, 1];\n",
    "P = [0.5, 0.5];\n",
    "m = 5;\n",
    "n = 6;\n",
    "X = DMS(A, P, m, n);"
   ]
  },
  {
   "cell_type": "code",
   "execution_count": 9,
   "metadata": {
    "collapsed": false
   },
   "outputs": [
    {
     "name": "stdout",
     "output_type": "stream",
     "text": [
      "\n"
     ]
    }
   ],
   "source": [
    "Y = repmat(A, m, n);"
   ]
  },
  {
   "cell_type": "code",
   "execution_count": 10,
   "metadata": {
    "collapsed": false
   },
   "outputs": [
    {
     "name": "stdout",
     "output_type": "stream",
     "text": [
      "\n",
      "X =\n",
      "\n",
      "     1     0     0     0     1     1\n",
      "     1     0     1     0     0     1\n",
      "     0     1     1     1     1     0\n",
      "     1     1     0     1     1     1\n",
      "     1     1     1     1     1     0\n",
      "\n",
      "\n",
      "Y =\n",
      "\n",
      "     0     1     0     1     0     1     0     1     0     1     0     1\n",
      "     0     1     0     1     0     1     0     1     0     1     0     1\n",
      "     0     1     0     1     0     1     0     1     0     1     0     1\n",
      "     0     1     0     1     0     1     0     1     0     1     0     1\n",
      "     0     1     0     1     0     1     0     1     0     1     0     1\n",
      "\n",
      "\n"
     ]
    }
   ],
   "source": [
    "X\n",
    "Y"
   ]
  },
  {
   "cell_type": "markdown",
   "metadata": {
    "collapsed": false
   },
   "source": [
    "2. That being done, we write the function `entropy(P)` that computes the entropy of a discrete random variable from its probability vector, and test it with a probability vector."
   ]
  },
  {
   "cell_type": "code",
   "execution_count": 11,
   "metadata": {
    "collapsed": false
   },
   "outputs": [
    {
     "name": "stdout",
     "output_type": "stream",
     "text": [
      "Created file 'C:\\Users\\Mathis\\Desktop\\information_theory\\entropy.m'.\n"
     ]
    }
   ],
   "source": [
    "%%file entropy.m\n",
    "function H = entropy(P)\n",
    "    % compute entropy of discrete random variable\n",
    "    % P: probability vector\n",
    "    % H: entropy\n",
    "    % returns H\n",
    "    H = -sum(P .* log2(P));\n",
    "end"
   ]
  },
  {
   "cell_type": "code",
   "execution_count": 12,
   "metadata": {
    "collapsed": false
   },
   "outputs": [
    {
     "name": "stdout",
     "output_type": "stream",
     "text": [
      "\n",
      "ans =\n",
      "\n",
      "    1.7610\n",
      "\n",
      "\n"
     ]
    }
   ],
   "source": [
    "P = [.2, .5, .1, .2];\n",
    "entropy(P)"
   ]
  },
  {
   "cell_type": "markdown",
   "metadata": {
    "collapsed": false
   },
   "source": [
    "3. We write the function `moybits(N, P)` that computes the average number of bits per symbol from a probability vector and a vector of codeword lengths."
   ]
  },
  {
   "cell_type": "code",
   "execution_count": 13,
   "metadata": {
    "collapsed": false
   },
   "outputs": [
    {
     "name": "stdout",
     "output_type": "stream",
     "text": [
      "Created file 'C:\\Users\\Mathis\\Desktop\\information_theory\\moybits.m'.\n"
     ]
    }
   ],
   "source": [
    "%%file moybits.m\n",
    "function moybits = moybits(N, P)\n",
    "    % compute average number of bits per symbol\n",
    "    % P: probability vector\n",
    "    % N: length of codewords\n",
    "    % moybits: average number of bits per symbol\n",
    "    % returns moybits\n",
    "    moybits = sum(P .* N);\n",
    "end\n"
   ]
  },
  {
   "cell_type": "markdown",
   "metadata": {
    "collapsed": false
   },
   "source": [
    "4. Now, we try Matlab functions `huffmanenco`"
   ]
  },
  {
   "attachments": {},
   "cell_type": "markdown",
   "metadata": {},
   "source": [
    "## 2 Source coding of words with memory or unknown probability of occurrence"
   ]
  },
  {
   "attachments": {},
   "cell_type": "markdown",
   "metadata": {},
   "source": [
    "1. Constructing the `LempelZivDic` function using `DMS` and Matlab functions."
   ]
  },
  {
   "cell_type": "code",
   "execution_count": 18,
   "metadata": {},
   "outputs": [
    {
     "name": "stdout",
     "output_type": "stream",
     "text": [
      "Created file 'C:\\Users\\Mathis\\Desktop\\information_theory\\LempelZivDic.m'.\n"
     ]
    }
   ],
   "source": [
    "%%file LempelZivDic.m\n",
    "\n",
    "function Dict = LempelZivDic(X,n)\n",
    "%LempelZivDic - Generate a dictionary of length 2^n from the discrete source X.\n",
    "%\n",
    "% Syntax: Dict = LempelZivDic(X,n)\n",
    "%\n",
    "% The output of this function is a vector of structures (dict.mot and dict.code; a word of the code must be on n+1 bits).\n",
    "    \n",
    "end"
   ]
  },
  {
   "attachments": {},
   "cell_type": "markdown",
   "metadata": {},
   "source": [
    "2. Constructing the `LempelZivEnCo` function using `LempelZivDic` and Matlab functions."
   ]
  },
  {
   "cell_type": "code",
   "execution_count": 99,
   "metadata": {},
   "outputs": [
    {
     "name": "stdout",
     "output_type": "stream",
     "text": [
      "Created file '/Users/thomasprevost/github/ProtectInfo/BE1/LempelZivEnCo.m'.\n"
     ]
    }
   ],
   "source": [
    "%%file LempelZivEnCo.m\n",
    "%%%%%%%%%%%%%%%%%%%%%%%%%%%%%%%%%%%%%%%%%%%%%%%%%%%%%%%%%%%%\n",
    "% function X = LempelZivEnCo(X,Dict)\n",
    "% LempelZivEnCo - Encodes a DMS X using the dictionary Dict.\n",
    "% returns the encoded DMS X.\n",
    "%%%%%%%%%%%%%%%%%%%%%%%%%%%%%%%%%%%%%%%%%%%%%%%%%%%%%%%%%%%%\n",
    "function X = LempelZivEnCo(X,Dict)\n",
    "    X = X(:)';\n",
    "    n = log2(length(Dict));\n",
    "    X = [X, zeros(1, n)];\n",
    "    for i = 1:length(X) - n\n",
    "        for j = 1:length(Dict)\n",
    "            if X(i:i+n) == Dict(j).mot\n",
    "                X(i:i+n) = Dict(j).code;\n",
    "                break\n",
    "            end\n",
    "        end\n",
    "    end\n",
    "    \n",
    "end"
   ]
  },
  {
   "attachments": {},
   "cell_type": "markdown",
   "metadata": {},
   "source": [
    "3. Constructing the `LempelZivDeCo` function using `LempelZivDic` and Matlab functions."
   ]
  },
  {
   "cell_type": "code",
   "execution_count": 16,
   "metadata": {},
   "outputs": [
    {
     "name": "stdout",
     "output_type": "stream",
     "text": [
      "Created file 'C:\\Users\\Mathis\\Desktop\\information_theory\\LempelZivDeco.m'.\n"
     ]
    }
   ],
   "source": [
    "%%file LempelZivDeco.m\n",
    "\n",
    "function Y = LempelZivDeco(X,Dict)\n",
    "%LempelZivDeco - Decodes a received message Y using the Dict dictionary.\n",
    "%\n",
    "% Syntax: Y = LempelZivDeco(X,Dict)\n",
    "%\n",
    "% It returns the decoded DMS Y.\n",
    "    \n",
    "end"
   ]
  },
  {
   "attachments": {},
   "cell_type": "markdown",
   "metadata": {},
   "source": [
    "3. Applying functions on a large sequence (> 1000 bits)"
   ]
  },
  {
   "cell_type": "code",
   "execution_count": null,
   "metadata": {},
   "outputs": [],
   "source": []
  },
  {
   "attachments": {},
   "cell_type": "markdown",
   "metadata": {},
   "source": [
    "5. Given program to test the functions. Need to add the results in comments."
   ]
  },
  {
   "cell_type": "code",
   "execution_count": 19,
   "metadata": {},
   "outputs": [
    {
     "name": "stderr",
     "output_type": "stream",
     "text": [
      "\u001B[1;31mOutput argument \"Dict\" (and possibly others) not assigned a value in the execution with \"LempelZivDic\" function.\n",
      "\n",
      "\u001B[0m"
     ]
    }
   ],
   "source": [
    "%Programme I\n",
    "n1 = 4;\n",
    "n2 = 11;\n",
    "n3 = 6;\n",
    "rand('state', 0);\n",
    "X = (rand(1, 50000) > 0.1);\n",
    "\n",
    "Dict1 = LempelZivDic(X, n1);\n",
    "longmot1 = Dict1(2 ^ n1).mot\n",
    "lgmot1 = length(Dict1(2 ^ n1).mot)\n",
    "\n",
    "Dict2 = LempelZivDic(X, n2);\n",
    "lgmot2 = length(Dict2(2 ^ n2).mot)\n",
    "\n",
    "X1 = LempelZivEnCo(X, Dict1);\n",
    "R1 = length(X1) / length(X)\n",
    "\n",
    "X2 = LempelZivEnCo(X, Dict2);\n",
    "R2 = length(X2) / length(X)\n",
    "\n",
    "Y = (rand(1, 1000) > 0.5);\n",
    "Y1 = LempelZivEnCo(Y, Dict2);\n",
    "RY1 = length(Y1) / length(Y)\n",
    "\n",
    "DictY = LempelZivDic(Y, 6);\n",
    "Y2 = LempelZivEnCo(Y, DictY);\n",
    "RY2 = length(Y2) / length(Y)\n",
    "\n",
    "X = X(1:1000);\n",
    "\n",
    "X2 = LempelZivEnCo(X, Dict2);\n",
    "R2 = length(X2) / length(X)\n",
    "\n",
    "X3 = LempelZivDeco(X2, Dict2);\n",
    "\n",
    "% The output of LempelZivDeco is a \"string\"\n",
    "for i = 1:length(X3)\n",
    "    X4(i) = str2num(X3(i))\n",
    "end\n",
    "\n",
    "BER = sum((X(1:length(X3)) - X4) .^ 2) %BER"
   ]
  }
 ],
 "metadata": {
  "kernelspec": {
   "display_name": "Matlab",
   "language": "matlab",
   "name": "matlab"
  },
  "language_info": {
   "codemirror_mode": "octave",
   "file_extension": ".m",
   "help_links": [
    {
     "text": "MetaKernel Magics",
     "url": "https://metakernel.readthedocs.io/en/latest/source/README.html"
    }
   ],
   "mimetype": "text/x-octave",
   "name": "matlab",
   "version": "0.17.1"
  },
  "vscode": {
   "interpreter": {
    "hash": "05fa5a9a77402fe086a4636f9a71778fa4ca2530c7be19dde571ce0f59a17cd3"
   }
  }
 },
 "nbformat": 4,
 "nbformat_minor": 1
}
